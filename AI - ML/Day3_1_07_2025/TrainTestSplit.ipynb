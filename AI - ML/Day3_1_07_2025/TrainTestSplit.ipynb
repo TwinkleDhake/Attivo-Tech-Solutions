{
 "cells": [
  {
   "cell_type": "code",
   "execution_count": 3,
   "id": "288a58e2-9ea1-4eda-ae93-b68a0010b4cb",
   "metadata": {},
   "outputs": [
    {
     "data": {
      "text/html": [
       "<div>\n",
       "<style scoped>\n",
       "    .dataframe tbody tr th:only-of-type {\n",
       "        vertical-align: middle;\n",
       "    }\n",
       "\n",
       "    .dataframe tbody tr th {\n",
       "        vertical-align: top;\n",
       "    }\n",
       "\n",
       "    .dataframe thead th {\n",
       "        text-align: right;\n",
       "    }\n",
       "</style>\n",
       "<table border=\"1\" class=\"dataframe\">\n",
       "  <thead>\n",
       "    <tr style=\"text-align: right;\">\n",
       "      <th></th>\n",
       "      <th>age</th>\n",
       "      <th>gender</th>\n",
       "      <th>impluse</th>\n",
       "      <th>pressurehight</th>\n",
       "      <th>pressurelow</th>\n",
       "      <th>glucose</th>\n",
       "      <th>kcm</th>\n",
       "      <th>troponin</th>\n",
       "      <th>class</th>\n",
       "    </tr>\n",
       "  </thead>\n",
       "  <tbody>\n",
       "    <tr>\n",
       "      <th>0</th>\n",
       "      <td>64</td>\n",
       "      <td>1</td>\n",
       "      <td>66</td>\n",
       "      <td>160</td>\n",
       "      <td>83</td>\n",
       "      <td>160.0</td>\n",
       "      <td>1.80</td>\n",
       "      <td>0.012</td>\n",
       "      <td>negative</td>\n",
       "    </tr>\n",
       "    <tr>\n",
       "      <th>1</th>\n",
       "      <td>21</td>\n",
       "      <td>1</td>\n",
       "      <td>94</td>\n",
       "      <td>98</td>\n",
       "      <td>46</td>\n",
       "      <td>296.0</td>\n",
       "      <td>6.75</td>\n",
       "      <td>1.060</td>\n",
       "      <td>positive</td>\n",
       "    </tr>\n",
       "    <tr>\n",
       "      <th>2</th>\n",
       "      <td>55</td>\n",
       "      <td>1</td>\n",
       "      <td>64</td>\n",
       "      <td>160</td>\n",
       "      <td>77</td>\n",
       "      <td>270.0</td>\n",
       "      <td>1.99</td>\n",
       "      <td>0.003</td>\n",
       "      <td>negative</td>\n",
       "    </tr>\n",
       "    <tr>\n",
       "      <th>3</th>\n",
       "      <td>64</td>\n",
       "      <td>1</td>\n",
       "      <td>70</td>\n",
       "      <td>120</td>\n",
       "      <td>55</td>\n",
       "      <td>270.0</td>\n",
       "      <td>13.87</td>\n",
       "      <td>0.122</td>\n",
       "      <td>positive</td>\n",
       "    </tr>\n",
       "    <tr>\n",
       "      <th>4</th>\n",
       "      <td>55</td>\n",
       "      <td>1</td>\n",
       "      <td>64</td>\n",
       "      <td>112</td>\n",
       "      <td>65</td>\n",
       "      <td>300.0</td>\n",
       "      <td>1.08</td>\n",
       "      <td>0.003</td>\n",
       "      <td>negative</td>\n",
       "    </tr>\n",
       "    <tr>\n",
       "      <th>...</th>\n",
       "      <td>...</td>\n",
       "      <td>...</td>\n",
       "      <td>...</td>\n",
       "      <td>...</td>\n",
       "      <td>...</td>\n",
       "      <td>...</td>\n",
       "      <td>...</td>\n",
       "      <td>...</td>\n",
       "      <td>...</td>\n",
       "    </tr>\n",
       "    <tr>\n",
       "      <th>1314</th>\n",
       "      <td>44</td>\n",
       "      <td>1</td>\n",
       "      <td>94</td>\n",
       "      <td>122</td>\n",
       "      <td>67</td>\n",
       "      <td>204.0</td>\n",
       "      <td>1.63</td>\n",
       "      <td>0.006</td>\n",
       "      <td>negative</td>\n",
       "    </tr>\n",
       "    <tr>\n",
       "      <th>1315</th>\n",
       "      <td>66</td>\n",
       "      <td>1</td>\n",
       "      <td>84</td>\n",
       "      <td>125</td>\n",
       "      <td>55</td>\n",
       "      <td>149.0</td>\n",
       "      <td>1.33</td>\n",
       "      <td>0.172</td>\n",
       "      <td>positive</td>\n",
       "    </tr>\n",
       "    <tr>\n",
       "      <th>1316</th>\n",
       "      <td>45</td>\n",
       "      <td>1</td>\n",
       "      <td>85</td>\n",
       "      <td>168</td>\n",
       "      <td>104</td>\n",
       "      <td>96.0</td>\n",
       "      <td>1.24</td>\n",
       "      <td>4.250</td>\n",
       "      <td>positive</td>\n",
       "    </tr>\n",
       "    <tr>\n",
       "      <th>1317</th>\n",
       "      <td>54</td>\n",
       "      <td>1</td>\n",
       "      <td>58</td>\n",
       "      <td>117</td>\n",
       "      <td>68</td>\n",
       "      <td>443.0</td>\n",
       "      <td>5.80</td>\n",
       "      <td>0.359</td>\n",
       "      <td>positive</td>\n",
       "    </tr>\n",
       "    <tr>\n",
       "      <th>1318</th>\n",
       "      <td>51</td>\n",
       "      <td>1</td>\n",
       "      <td>94</td>\n",
       "      <td>157</td>\n",
       "      <td>79</td>\n",
       "      <td>134.0</td>\n",
       "      <td>50.89</td>\n",
       "      <td>1.770</td>\n",
       "      <td>positive</td>\n",
       "    </tr>\n",
       "  </tbody>\n",
       "</table>\n",
       "<p>1319 rows × 9 columns</p>\n",
       "</div>"
      ],
      "text/plain": [
       "      age  gender  impluse  pressurehight  pressurelow  glucose    kcm  \\\n",
       "0      64       1       66            160           83    160.0   1.80   \n",
       "1      21       1       94             98           46    296.0   6.75   \n",
       "2      55       1       64            160           77    270.0   1.99   \n",
       "3      64       1       70            120           55    270.0  13.87   \n",
       "4      55       1       64            112           65    300.0   1.08   \n",
       "...   ...     ...      ...            ...          ...      ...    ...   \n",
       "1314   44       1       94            122           67    204.0   1.63   \n",
       "1315   66       1       84            125           55    149.0   1.33   \n",
       "1316   45       1       85            168          104     96.0   1.24   \n",
       "1317   54       1       58            117           68    443.0   5.80   \n",
       "1318   51       1       94            157           79    134.0  50.89   \n",
       "\n",
       "      troponin     class  \n",
       "0        0.012  negative  \n",
       "1        1.060  positive  \n",
       "2        0.003  negative  \n",
       "3        0.122  positive  \n",
       "4        0.003  negative  \n",
       "...        ...       ...  \n",
       "1314     0.006  negative  \n",
       "1315     0.172  positive  \n",
       "1316     4.250  positive  \n",
       "1317     0.359  positive  \n",
       "1318     1.770  positive  \n",
       "\n",
       "[1319 rows x 9 columns]"
      ]
     },
     "execution_count": 3,
     "metadata": {},
     "output_type": "execute_result"
    }
   ],
   "source": [
    "import pandas as pd\n",
    "df1 = pd.read_csv(r'C:\\\\Users\\\\yasha\\Desktop\\\\AI_ML\\\\AI_ML_DailyPractice\\\\Day2_27_06_2025\\\\Heart Attack.csv')\n",
    "df1"
   ]
  },
  {
   "cell_type": "code",
   "execution_count": 9,
   "id": "7f8b57cc-490c-4109-9dd8-d33521dcdb6d",
   "metadata": {},
   "outputs": [],
   "source": [
    "drop_firsts = True"
   ]
  },
  {
   "cell_type": "code",
   "execution_count": 8,
   "id": "b0377aa0-7911-4c31-9936-b930234cbd9d",
   "metadata": {},
   "outputs": [],
   "source": [
    "from sklearn.model_selection import train_test_split"
   ]
  },
  {
   "cell_type": "code",
   "execution_count": 6,
   "id": "c5b14c4d-6edc-4587-b276-f22dd89f66dd",
   "metadata": {},
   "outputs": [],
   "source": [
    "X = df1.age"
   ]
  },
  {
   "cell_type": "code",
   "execution_count": 7,
   "id": "44d4ff5a-8dd0-405a-baed-b16b8629fec9",
   "metadata": {},
   "outputs": [
    {
     "data": {
      "text/plain": [
       "0    64\n",
       "1    21\n",
       "2    55\n",
       "3    64\n",
       "4    55\n",
       "Name: age, dtype: int64"
      ]
     },
     "execution_count": 7,
     "metadata": {},
     "output_type": "execute_result"
    }
   ],
   "source": [
    "X.head()"
   ]
  },
  {
   "cell_type": "code",
   "execution_count": 16,
   "id": "e99f7889-9909-4a39-be3e-bda4fd75d365",
   "metadata": {},
   "outputs": [],
   "source": [
    "y = df1['gender'] == 'male'"
   ]
  },
  {
   "cell_type": "code",
   "execution_count": 17,
   "id": "e6a96f93-3945-4027-8d85-83ec3a37bdfc",
   "metadata": {},
   "outputs": [
    {
     "data": {
      "text/plain": [
       "0    False\n",
       "1    False\n",
       "2    False\n",
       "3    False\n",
       "4    False\n",
       "Name: gender, dtype: bool"
      ]
     },
     "execution_count": 17,
     "metadata": {},
     "output_type": "execute_result"
    }
   ],
   "source": [
    "y.head()"
   ]
  },
  {
   "cell_type": "code",
   "execution_count": 18,
   "id": "bdfd1bdd-3eee-4310-a623-4f315dbfdb19",
   "metadata": {},
   "outputs": [],
   "source": [
    "X_train, X_test, y_train, y_test = train_test_split (X, y, test_size = 0.3, random_state = 30)"
   ]
  },
  {
   "cell_type": "code",
   "execution_count": 19,
   "id": "1550fa4b-98e7-42e2-aace-defad228e34c",
   "metadata": {},
   "outputs": [
    {
     "data": {
      "text/plain": [
       "427     58\n",
       "69      46\n",
       "981     21\n",
       "1214    66\n",
       "839     39\n",
       "        ..\n",
       "919     47\n",
       "1164    52\n",
       "500     19\n",
       "941     50\n",
       "421     80\n",
       "Name: age, Length: 923, dtype: int64"
      ]
     },
     "execution_count": 19,
     "metadata": {},
     "output_type": "execute_result"
    }
   ],
   "source": [
    "X_train"
   ]
  },
  {
   "cell_type": "code",
   "execution_count": 20,
   "id": "c2a61fbf-694b-48e1-8376-b21c24983c5a",
   "metadata": {},
   "outputs": [
    {
     "data": {
      "text/plain": [
       "(923,)"
      ]
     },
     "execution_count": 20,
     "metadata": {},
     "output_type": "execute_result"
    }
   ],
   "source": [
    "X_train.shape"
   ]
  },
  {
   "cell_type": "code",
   "execution_count": 21,
   "id": "9caccb3b-bafa-4f58-8a9b-9011c5aaf50a",
   "metadata": {},
   "outputs": [
    {
     "data": {
      "text/plain": [
       "(923,)"
      ]
     },
     "execution_count": 21,
     "metadata": {},
     "output_type": "execute_result"
    }
   ],
   "source": [
    "y_train.shape"
   ]
  },
  {
   "cell_type": "code",
   "execution_count": 22,
   "id": "868fa2cc-168b-4dfa-b3e2-5165634238e5",
   "metadata": {},
   "outputs": [
    {
     "data": {
      "text/plain": [
       "(396,)"
      ]
     },
     "execution_count": 22,
     "metadata": {},
     "output_type": "execute_result"
    }
   ],
   "source": [
    "X_test.shape"
   ]
  },
  {
   "cell_type": "code",
   "execution_count": 23,
   "id": "47f470e6-317c-48eb-810d-fc99299590e8",
   "metadata": {},
   "outputs": [
    {
     "data": {
      "text/plain": [
       "(396,)"
      ]
     },
     "execution_count": 23,
     "metadata": {},
     "output_type": "execute_result"
    }
   ],
   "source": [
    "y_test.shape"
   ]
  },
  {
   "cell_type": "code",
   "execution_count": 27,
   "id": "8e0a67d7-b7fa-4c51-ace5-f4e52703b975",
   "metadata": {},
   "outputs": [],
   "source": [
    "X = df1.drop('gender_male', axis ='columns', errors ='ignore')"
   ]
  },
  {
   "cell_type": "code",
   "execution_count": 25,
   "id": "f785fc3f-e23a-4847-86d2-08189a352902",
   "metadata": {},
   "outputs": [
    {
     "data": {
      "text/plain": [
       "0    64\n",
       "1    21\n",
       "2    55\n",
       "3    64\n",
       "4    55\n",
       "Name: age, dtype: int64"
      ]
     },
     "execution_count": 25,
     "metadata": {},
     "output_type": "execute_result"
    }
   ],
   "source": [
    "X.head()"
   ]
  },
  {
   "cell_type": "code",
   "execution_count": 29,
   "id": "18fa0ac5-e2c2-4aae-ae92-081b44b634f3",
   "metadata": {},
   "outputs": [],
   "source": [
    "from sklearn.preprocessing import LabelEncoder"
   ]
  },
  {
   "cell_type": "code",
   "execution_count": 30,
   "id": "42fbea43-8458-4aff-b95f-d12b39068d2b",
   "metadata": {},
   "outputs": [],
   "source": [
    "le = LabelEncoder()"
   ]
  },
  {
   "cell_type": "code",
   "execution_count": 37,
   "id": "921220ba-74ef-467d-a3d7-2aea16dd9199",
   "metadata": {},
   "outputs": [
    {
     "data": {
      "text/html": [
       "<div>\n",
       "<style scoped>\n",
       "    .dataframe tbody tr th:only-of-type {\n",
       "        vertical-align: middle;\n",
       "    }\n",
       "\n",
       "    .dataframe tbody tr th {\n",
       "        vertical-align: top;\n",
       "    }\n",
       "\n",
       "    .dataframe thead th {\n",
       "        text-align: right;\n",
       "    }\n",
       "</style>\n",
       "<table border=\"1\" class=\"dataframe\">\n",
       "  <thead>\n",
       "    <tr style=\"text-align: right;\">\n",
       "      <th></th>\n",
       "      <th>age</th>\n",
       "      <th>gender</th>\n",
       "      <th>impluse</th>\n",
       "      <th>pressurehight</th>\n",
       "      <th>pressurelow</th>\n",
       "      <th>glucose</th>\n",
       "      <th>kcm</th>\n",
       "      <th>troponin</th>\n",
       "      <th>class</th>\n",
       "    </tr>\n",
       "  </thead>\n",
       "  <tbody>\n",
       "    <tr>\n",
       "      <th>0</th>\n",
       "      <td>64</td>\n",
       "      <td>1</td>\n",
       "      <td>66</td>\n",
       "      <td>160</td>\n",
       "      <td>83</td>\n",
       "      <td>96</td>\n",
       "      <td>1.80</td>\n",
       "      <td>11</td>\n",
       "      <td>negative</td>\n",
       "    </tr>\n",
       "    <tr>\n",
       "      <th>1</th>\n",
       "      <td>21</td>\n",
       "      <td>1</td>\n",
       "      <td>94</td>\n",
       "      <td>98</td>\n",
       "      <td>46</td>\n",
       "      <td>199</td>\n",
       "      <td>6.75</td>\n",
       "      <td>251</td>\n",
       "      <td>positive</td>\n",
       "    </tr>\n",
       "    <tr>\n",
       "      <th>2</th>\n",
       "      <td>55</td>\n",
       "      <td>1</td>\n",
       "      <td>64</td>\n",
       "      <td>160</td>\n",
       "      <td>77</td>\n",
       "      <td>186</td>\n",
       "      <td>1.99</td>\n",
       "      <td>2</td>\n",
       "      <td>negative</td>\n",
       "    </tr>\n",
       "    <tr>\n",
       "      <th>3</th>\n",
       "      <td>64</td>\n",
       "      <td>1</td>\n",
       "      <td>70</td>\n",
       "      <td>120</td>\n",
       "      <td>55</td>\n",
       "      <td>186</td>\n",
       "      <td>13.87</td>\n",
       "      <td>102</td>\n",
       "      <td>positive</td>\n",
       "    </tr>\n",
       "    <tr>\n",
       "      <th>4</th>\n",
       "      <td>55</td>\n",
       "      <td>1</td>\n",
       "      <td>64</td>\n",
       "      <td>112</td>\n",
       "      <td>65</td>\n",
       "      <td>201</td>\n",
       "      <td>1.08</td>\n",
       "      <td>2</td>\n",
       "      <td>negative</td>\n",
       "    </tr>\n",
       "  </tbody>\n",
       "</table>\n",
       "</div>"
      ],
      "text/plain": [
       "   age  gender  impluse  pressurehight  pressurelow  glucose    kcm  troponin  \\\n",
       "0   64       1       66            160           83       96   1.80        11   \n",
       "1   21       1       94             98           46      199   6.75       251   \n",
       "2   55       1       64            160           77      186   1.99         2   \n",
       "3   64       1       70            120           55      186  13.87       102   \n",
       "4   55       1       64            112           65      201   1.08         2   \n",
       "\n",
       "      class  \n",
       "0  negative  \n",
       "1  positive  \n",
       "2  negative  \n",
       "3  positive  \n",
       "4  negative  "
      ]
     },
     "execution_count": 37,
     "metadata": {},
     "output_type": "execute_result"
    }
   ],
   "source": [
    "#df1 = df.copy\n",
    "columns_to_encode = ['troponin', 'glucose']\n",
    "for columns in columns_to_encode:\n",
    "    df1[columns] = le.fit_transform(df1[columns])\n",
    "df1.head()"
   ]
  },
  {
   "cell_type": "code",
   "execution_count": 12,
   "id": "89d8f775-7acd-45ce-a001-b9d865003f30",
   "metadata": {},
   "outputs": [],
   "source": [
    "#import pandas as pd\n",
    "#df1 = pd.read_csv(r'C:\\\\Users\\\\yasha\\Desktop\\\\AI_ML\\\\AI_ML_DailyPractice\\\\Day2_27_06_2025\\\\Heart Attack.csv')\n",
    "X = df1.drop(\"class\", axis = 'columns')"
   ]
  },
  {
   "cell_type": "code",
   "execution_count": 13,
   "id": "5b662bab-f703-4c8b-a237-be0bbd50e577",
   "metadata": {},
   "outputs": [
    {
     "data": {
      "text/html": [
       "<div>\n",
       "<style scoped>\n",
       "    .dataframe tbody tr th:only-of-type {\n",
       "        vertical-align: middle;\n",
       "    }\n",
       "\n",
       "    .dataframe tbody tr th {\n",
       "        vertical-align: top;\n",
       "    }\n",
       "\n",
       "    .dataframe thead th {\n",
       "        text-align: right;\n",
       "    }\n",
       "</style>\n",
       "<table border=\"1\" class=\"dataframe\">\n",
       "  <thead>\n",
       "    <tr style=\"text-align: right;\">\n",
       "      <th></th>\n",
       "      <th>age</th>\n",
       "      <th>gender</th>\n",
       "      <th>impluse</th>\n",
       "      <th>pressurehight</th>\n",
       "      <th>pressurelow</th>\n",
       "      <th>glucose</th>\n",
       "      <th>kcm</th>\n",
       "      <th>troponin</th>\n",
       "    </tr>\n",
       "  </thead>\n",
       "  <tbody>\n",
       "    <tr>\n",
       "      <th>0</th>\n",
       "      <td>64</td>\n",
       "      <td>1</td>\n",
       "      <td>66</td>\n",
       "      <td>160</td>\n",
       "      <td>83</td>\n",
       "      <td>160.0</td>\n",
       "      <td>1.80</td>\n",
       "      <td>0.012</td>\n",
       "    </tr>\n",
       "    <tr>\n",
       "      <th>1</th>\n",
       "      <td>21</td>\n",
       "      <td>1</td>\n",
       "      <td>94</td>\n",
       "      <td>98</td>\n",
       "      <td>46</td>\n",
       "      <td>296.0</td>\n",
       "      <td>6.75</td>\n",
       "      <td>1.060</td>\n",
       "    </tr>\n",
       "    <tr>\n",
       "      <th>2</th>\n",
       "      <td>55</td>\n",
       "      <td>1</td>\n",
       "      <td>64</td>\n",
       "      <td>160</td>\n",
       "      <td>77</td>\n",
       "      <td>270.0</td>\n",
       "      <td>1.99</td>\n",
       "      <td>0.003</td>\n",
       "    </tr>\n",
       "    <tr>\n",
       "      <th>3</th>\n",
       "      <td>64</td>\n",
       "      <td>1</td>\n",
       "      <td>70</td>\n",
       "      <td>120</td>\n",
       "      <td>55</td>\n",
       "      <td>270.0</td>\n",
       "      <td>13.87</td>\n",
       "      <td>0.122</td>\n",
       "    </tr>\n",
       "    <tr>\n",
       "      <th>4</th>\n",
       "      <td>55</td>\n",
       "      <td>1</td>\n",
       "      <td>64</td>\n",
       "      <td>112</td>\n",
       "      <td>65</td>\n",
       "      <td>300.0</td>\n",
       "      <td>1.08</td>\n",
       "      <td>0.003</td>\n",
       "    </tr>\n",
       "  </tbody>\n",
       "</table>\n",
       "</div>"
      ],
      "text/plain": [
       "   age  gender  impluse  pressurehight  pressurelow  glucose    kcm  troponin\n",
       "0   64       1       66            160           83    160.0   1.80     0.012\n",
       "1   21       1       94             98           46    296.0   6.75     1.060\n",
       "2   55       1       64            160           77    270.0   1.99     0.003\n",
       "3   64       1       70            120           55    270.0  13.87     0.122\n",
       "4   55       1       64            112           65    300.0   1.08     0.003"
      ]
     },
     "execution_count": 13,
     "metadata": {},
     "output_type": "execute_result"
    }
   ],
   "source": [
    "X.head()"
   ]
  },
  {
   "cell_type": "code",
   "execution_count": 15,
   "id": "af88947d-73c0-45e7-9e25-b05d9e6e0a78",
   "metadata": {},
   "outputs": [],
   "source": [
    "y = df1['class']"
   ]
  },
  {
   "cell_type": "code",
   "execution_count": 16,
   "id": "94bd69d5-2d60-4612-90ab-df842212224e",
   "metadata": {},
   "outputs": [
    {
     "data": {
      "text/plain": [
       "0    negative\n",
       "1    positive\n",
       "2    negative\n",
       "3    positive\n",
       "4    negative\n",
       "Name: class, dtype: object"
      ]
     },
     "execution_count": 16,
     "metadata": {},
     "output_type": "execute_result"
    }
   ],
   "source": [
    "y.head()"
   ]
  },
  {
   "cell_type": "code",
   "execution_count": 22,
   "id": "a68b4187-499f-4377-bea2-741cfb321bc8",
   "metadata": {},
   "outputs": [],
   "source": [
    "from sklearn.model_selection import train_test_split"
   ]
  },
  {
   "cell_type": "code",
   "execution_count": 23,
   "id": "e4e75bf2-58d9-4a6e-bf20-73addef8c2fd",
   "metadata": {},
   "outputs": [],
   "source": [
    "X_train, X_test, y_train, y_test = train_test_split(X, y, test_size = 0.2, random_state = 30)"
   ]
  },
  {
   "cell_type": "code",
   "execution_count": 24,
   "id": "87233d68-e5df-43c7-a80e-4ebb9e0e0070",
   "metadata": {},
   "outputs": [
    {
     "data": {
      "text/html": [
       "<div>\n",
       "<style scoped>\n",
       "    .dataframe tbody tr th:only-of-type {\n",
       "        vertical-align: middle;\n",
       "    }\n",
       "\n",
       "    .dataframe tbody tr th {\n",
       "        vertical-align: top;\n",
       "    }\n",
       "\n",
       "    .dataframe thead th {\n",
       "        text-align: right;\n",
       "    }\n",
       "</style>\n",
       "<table border=\"1\" class=\"dataframe\">\n",
       "  <thead>\n",
       "    <tr style=\"text-align: right;\">\n",
       "      <th></th>\n",
       "      <th>age</th>\n",
       "      <th>gender</th>\n",
       "      <th>impluse</th>\n",
       "      <th>pressurehight</th>\n",
       "      <th>pressurelow</th>\n",
       "      <th>glucose</th>\n",
       "      <th>kcm</th>\n",
       "      <th>troponin</th>\n",
       "    </tr>\n",
       "  </thead>\n",
       "  <tbody>\n",
       "    <tr>\n",
       "      <th>592</th>\n",
       "      <td>50</td>\n",
       "      <td>1</td>\n",
       "      <td>57</td>\n",
       "      <td>138</td>\n",
       "      <td>75</td>\n",
       "      <td>294.0</td>\n",
       "      <td>4.61</td>\n",
       "      <td>0.003</td>\n",
       "    </tr>\n",
       "    <tr>\n",
       "      <th>520</th>\n",
       "      <td>51</td>\n",
       "      <td>0</td>\n",
       "      <td>100</td>\n",
       "      <td>117</td>\n",
       "      <td>57</td>\n",
       "      <td>249.0</td>\n",
       "      <td>1.85</td>\n",
       "      <td>0.004</td>\n",
       "    </tr>\n",
       "    <tr>\n",
       "      <th>426</th>\n",
       "      <td>21</td>\n",
       "      <td>1</td>\n",
       "      <td>85</td>\n",
       "      <td>138</td>\n",
       "      <td>98</td>\n",
       "      <td>257.0</td>\n",
       "      <td>9.90</td>\n",
       "      <td>0.003</td>\n",
       "    </tr>\n",
       "    <tr>\n",
       "      <th>1133</th>\n",
       "      <td>65</td>\n",
       "      <td>0</td>\n",
       "      <td>80</td>\n",
       "      <td>129</td>\n",
       "      <td>89</td>\n",
       "      <td>85.0</td>\n",
       "      <td>2.79</td>\n",
       "      <td>0.004</td>\n",
       "    </tr>\n",
       "    <tr>\n",
       "      <th>1016</th>\n",
       "      <td>63</td>\n",
       "      <td>1</td>\n",
       "      <td>64</td>\n",
       "      <td>106</td>\n",
       "      <td>68</td>\n",
       "      <td>85.0</td>\n",
       "      <td>2.39</td>\n",
       "      <td>0.012</td>\n",
       "    </tr>\n",
       "  </tbody>\n",
       "</table>\n",
       "</div>"
      ],
      "text/plain": [
       "      age  gender  impluse  pressurehight  pressurelow  glucose   kcm  \\\n",
       "592    50       1       57            138           75    294.0  4.61   \n",
       "520    51       0      100            117           57    249.0  1.85   \n",
       "426    21       1       85            138           98    257.0  9.90   \n",
       "1133   65       0       80            129           89     85.0  2.79   \n",
       "1016   63       1       64            106           68     85.0  2.39   \n",
       "\n",
       "      troponin  \n",
       "592      0.003  \n",
       "520      0.004  \n",
       "426      0.003  \n",
       "1133     0.004  \n",
       "1016     0.012  "
      ]
     },
     "execution_count": 24,
     "metadata": {},
     "output_type": "execute_result"
    }
   ],
   "source": [
    "X_train.head()"
   ]
  }
 ],
 "metadata": {
  "kernelspec": {
   "display_name": "Python [conda env:base] *",
   "language": "python",
   "name": "conda-base-py"
  },
  "language_info": {
   "codemirror_mode": {
    "name": "ipython",
    "version": 3
   },
   "file_extension": ".py",
   "mimetype": "text/x-python",
   "name": "python",
   "nbconvert_exporter": "python",
   "pygments_lexer": "ipython3",
   "version": "3.13.5"
  }
 },
 "nbformat": 4,
 "nbformat_minor": 5
}
