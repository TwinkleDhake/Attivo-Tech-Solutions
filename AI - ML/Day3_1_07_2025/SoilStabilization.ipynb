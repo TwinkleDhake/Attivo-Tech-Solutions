{
 "cells": [
  {
   "cell_type": "code",
   "execution_count": 1,
   "id": "cf16b016-79e6-4b91-891c-6161d2d382ef",
   "metadata": {},
   "outputs": [],
   "source": [
    "import pandas as pd"
   ]
  },
  {
   "cell_type": "code",
   "execution_count": 3,
   "id": "790fe5cb-f8d0-4526-bc16-073a099ed08b",
   "metadata": {},
   "outputs": [],
   "source": [
    "from sklearn.preprocessing import LabelEncoder"
   ]
  },
  {
   "cell_type": "code",
   "execution_count": 4,
   "id": "ec0d733d-40f2-4d4e-aab7-48603e3bc0b1",
   "metadata": {},
   "outputs": [],
   "source": [
    "soil_stable = pd.read_csv(r'C:\\Users\\yasha\\Desktop\\AI_ML\\AI_ML_DailyPractice\\Day3_1_07_2025\\Soil Stabilization\\synthetic_soil_stabilization_data.csv')"
   ]
  },
  {
   "cell_type": "code",
   "execution_count": 5,
   "id": "33d633dd-7f53-45d6-9001-c5998b0d655c",
   "metadata": {},
   "outputs": [
    {
     "data": {
      "text/html": [
       "<div>\n",
       "<style scoped>\n",
       "    .dataframe tbody tr th:only-of-type {\n",
       "        vertical-align: middle;\n",
       "    }\n",
       "\n",
       "    .dataframe tbody tr th {\n",
       "        vertical-align: top;\n",
       "    }\n",
       "\n",
       "    .dataframe thead th {\n",
       "        text-align: right;\n",
       "    }\n",
       "</style>\n",
       "<table border=\"1\" class=\"dataframe\">\n",
       "  <thead>\n",
       "    <tr style=\"text-align: right;\">\n",
       "      <th></th>\n",
       "      <th>Soil_Type</th>\n",
       "      <th>Additive_Type</th>\n",
       "      <th>Additive_Proportion (%)</th>\n",
       "      <th>Moisture_Content (%)</th>\n",
       "      <th>Comp_Strength (MPa)</th>\n",
       "    </tr>\n",
       "  </thead>\n",
       "  <tbody>\n",
       "    <tr>\n",
       "      <th>0</th>\n",
       "      <td>Sand</td>\n",
       "      <td>Fly Ash</td>\n",
       "      <td>15.472426</td>\n",
       "      <td>8.702659</td>\n",
       "      <td>4.621096</td>\n",
       "    </tr>\n",
       "    <tr>\n",
       "      <th>1</th>\n",
       "      <td>Gravel</td>\n",
       "      <td>Lime</td>\n",
       "      <td>13.041445</td>\n",
       "      <td>15.838019</td>\n",
       "      <td>3.267365</td>\n",
       "    </tr>\n",
       "    <tr>\n",
       "      <th>2</th>\n",
       "      <td>Clay</td>\n",
       "      <td>Lime</td>\n",
       "      <td>9.642914</td>\n",
       "      <td>22.458917</td>\n",
       "      <td>0.500000</td>\n",
       "    </tr>\n",
       "    <tr>\n",
       "      <th>3</th>\n",
       "      <td>Sand</td>\n",
       "      <td>Bitumen</td>\n",
       "      <td>17.206925</td>\n",
       "      <td>19.644498</td>\n",
       "      <td>3.696233</td>\n",
       "    </tr>\n",
       "    <tr>\n",
       "      <th>4</th>\n",
       "      <td>Sand</td>\n",
       "      <td>Fly Ash</td>\n",
       "      <td>15.270968</td>\n",
       "      <td>21.131223</td>\n",
       "      <td>3.608744</td>\n",
       "    </tr>\n",
       "  </tbody>\n",
       "</table>\n",
       "</div>"
      ],
      "text/plain": [
       "  Soil_Type Additive_Type  Additive_Proportion (%)  Moisture_Content (%)  \\\n",
       "0      Sand       Fly Ash                15.472426              8.702659   \n",
       "1    Gravel          Lime                13.041445             15.838019   \n",
       "2      Clay          Lime                 9.642914             22.458917   \n",
       "3      Sand       Bitumen                17.206925             19.644498   \n",
       "4      Sand       Fly Ash                15.270968             21.131223   \n",
       "\n",
       "   Comp_Strength (MPa)  \n",
       "0             4.621096  \n",
       "1             3.267365  \n",
       "2             0.500000  \n",
       "3             3.696233  \n",
       "4             3.608744  "
      ]
     },
     "execution_count": 5,
     "metadata": {},
     "output_type": "execute_result"
    }
   ],
   "source": [
    "soil_stable.head()"
   ]
  },
  {
   "cell_type": "code",
   "execution_count": 6,
   "id": "b5544d0e-01d5-4b4c-b362-365784d700b8",
   "metadata": {},
   "outputs": [
    {
     "data": {
      "text/html": [
       "<div>\n",
       "<style scoped>\n",
       "    .dataframe tbody tr th:only-of-type {\n",
       "        vertical-align: middle;\n",
       "    }\n",
       "\n",
       "    .dataframe tbody tr th {\n",
       "        vertical-align: top;\n",
       "    }\n",
       "\n",
       "    .dataframe thead th {\n",
       "        text-align: right;\n",
       "    }\n",
       "</style>\n",
       "<table border=\"1\" class=\"dataframe\">\n",
       "  <thead>\n",
       "    <tr style=\"text-align: right;\">\n",
       "      <th></th>\n",
       "      <th>Soil_Type</th>\n",
       "      <th>Additive_Type</th>\n",
       "      <th>Additive_Proportion (%)</th>\n",
       "      <th>Moisture_Content (%)</th>\n",
       "      <th>Comp_Strength (MPa)</th>\n",
       "    </tr>\n",
       "  </thead>\n",
       "  <tbody>\n",
       "    <tr>\n",
       "      <th>495</th>\n",
       "      <td>Sand</td>\n",
       "      <td>Lime</td>\n",
       "      <td>6.373731</td>\n",
       "      <td>18.364256</td>\n",
       "      <td>2.889969</td>\n",
       "    </tr>\n",
       "    <tr>\n",
       "      <th>496</th>\n",
       "      <td>Sand</td>\n",
       "      <td>Lime</td>\n",
       "      <td>18.759704</td>\n",
       "      <td>17.389807</td>\n",
       "      <td>5.000000</td>\n",
       "    </tr>\n",
       "    <tr>\n",
       "      <th>497</th>\n",
       "      <td>Gravel</td>\n",
       "      <td>Bitumen</td>\n",
       "      <td>7.052279</td>\n",
       "      <td>14.269881</td>\n",
       "      <td>0.871374</td>\n",
       "    </tr>\n",
       "    <tr>\n",
       "      <th>498</th>\n",
       "      <td>Clay</td>\n",
       "      <td>Bitumen</td>\n",
       "      <td>19.253560</td>\n",
       "      <td>12.595716</td>\n",
       "      <td>3.760436</td>\n",
       "    </tr>\n",
       "    <tr>\n",
       "      <th>499</th>\n",
       "      <td>Gravel</td>\n",
       "      <td>Fly Ash</td>\n",
       "      <td>11.690087</td>\n",
       "      <td>22.266673</td>\n",
       "      <td>1.447627</td>\n",
       "    </tr>\n",
       "  </tbody>\n",
       "</table>\n",
       "</div>"
      ],
      "text/plain": [
       "    Soil_Type Additive_Type  Additive_Proportion (%)  Moisture_Content (%)  \\\n",
       "495      Sand          Lime                 6.373731             18.364256   \n",
       "496      Sand          Lime                18.759704             17.389807   \n",
       "497    Gravel       Bitumen                 7.052279             14.269881   \n",
       "498      Clay       Bitumen                19.253560             12.595716   \n",
       "499    Gravel       Fly Ash                11.690087             22.266673   \n",
       "\n",
       "     Comp_Strength (MPa)  \n",
       "495             2.889969  \n",
       "496             5.000000  \n",
       "497             0.871374  \n",
       "498             3.760436  \n",
       "499             1.447627  "
      ]
     },
     "execution_count": 6,
     "metadata": {},
     "output_type": "execute_result"
    }
   ],
   "source": [
    "soil_stable.tail()"
   ]
  },
  {
   "cell_type": "code",
   "execution_count": 7,
   "id": "ecd91393-a4ef-4285-87dc-a6b17b9f8c04",
   "metadata": {},
   "outputs": [
    {
     "data": {
      "text/plain": [
       "(500, 5)"
      ]
     },
     "execution_count": 7,
     "metadata": {},
     "output_type": "execute_result"
    }
   ],
   "source": [
    "soil_stable.shape"
   ]
  },
  {
   "cell_type": "code",
   "execution_count": 8,
   "id": "fa9506ff-fe4b-4237-b03f-bd27e5603146",
   "metadata": {},
   "outputs": [
    {
     "name": "stdout",
     "output_type": "stream",
     "text": [
      "<class 'pandas.core.frame.DataFrame'>\n",
      "RangeIndex: 500 entries, 0 to 499\n",
      "Data columns (total 5 columns):\n",
      " #   Column                   Non-Null Count  Dtype  \n",
      "---  ------                   --------------  -----  \n",
      " 0   Soil_Type                500 non-null    object \n",
      " 1   Additive_Type            500 non-null    object \n",
      " 2   Additive_Proportion (%)  500 non-null    float64\n",
      " 3   Moisture_Content (%)     500 non-null    float64\n",
      " 4   Comp_Strength (MPa)      500 non-null    float64\n",
      "dtypes: float64(3), object(2)\n",
      "memory usage: 19.7+ KB\n"
     ]
    }
   ],
   "source": [
    "soil_stable.info()"
   ]
  },
  {
   "cell_type": "code",
   "execution_count": 9,
   "id": "1fc1328d-61ea-4dce-be9e-f352fcd836cf",
   "metadata": {},
   "outputs": [
    {
     "data": {
      "text/html": [
       "<div>\n",
       "<style scoped>\n",
       "    .dataframe tbody tr th:only-of-type {\n",
       "        vertical-align: middle;\n",
       "    }\n",
       "\n",
       "    .dataframe tbody tr th {\n",
       "        vertical-align: top;\n",
       "    }\n",
       "\n",
       "    .dataframe thead th {\n",
       "        text-align: right;\n",
       "    }\n",
       "</style>\n",
       "<table border=\"1\" class=\"dataframe\">\n",
       "  <thead>\n",
       "    <tr style=\"text-align: right;\">\n",
       "      <th></th>\n",
       "      <th>Additive_Proportion (%)</th>\n",
       "      <th>Moisture_Content (%)</th>\n",
       "      <th>Comp_Strength (MPa)</th>\n",
       "    </tr>\n",
       "  </thead>\n",
       "  <tbody>\n",
       "    <tr>\n",
       "      <th>count</th>\n",
       "      <td>500.000000</td>\n",
       "      <td>500.000000</td>\n",
       "      <td>500.000000</td>\n",
       "    </tr>\n",
       "    <tr>\n",
       "      <th>mean</th>\n",
       "      <td>12.229271</td>\n",
       "      <td>15.351162</td>\n",
       "      <td>3.456520</td>\n",
       "    </tr>\n",
       "    <tr>\n",
       "      <th>std</th>\n",
       "      <td>4.282402</td>\n",
       "      <td>5.943859</td>\n",
       "      <td>1.404654</td>\n",
       "    </tr>\n",
       "    <tr>\n",
       "      <th>min</th>\n",
       "      <td>5.069480</td>\n",
       "      <td>5.098800</td>\n",
       "      <td>0.500000</td>\n",
       "    </tr>\n",
       "    <tr>\n",
       "      <th>25%</th>\n",
       "      <td>8.436489</td>\n",
       "      <td>9.824561</td>\n",
       "      <td>2.402386</td>\n",
       "    </tr>\n",
       "    <tr>\n",
       "      <th>50%</th>\n",
       "      <td>12.077324</td>\n",
       "      <td>15.794767</td>\n",
       "      <td>3.680261</td>\n",
       "    </tr>\n",
       "    <tr>\n",
       "      <th>75%</th>\n",
       "      <td>15.895052</td>\n",
       "      <td>20.546875</td>\n",
       "      <td>4.975178</td>\n",
       "    </tr>\n",
       "    <tr>\n",
       "      <th>max</th>\n",
       "      <td>19.995765</td>\n",
       "      <td>24.988275</td>\n",
       "      <td>5.000000</td>\n",
       "    </tr>\n",
       "  </tbody>\n",
       "</table>\n",
       "</div>"
      ],
      "text/plain": [
       "       Additive_Proportion (%)  Moisture_Content (%)  Comp_Strength (MPa)\n",
       "count               500.000000            500.000000           500.000000\n",
       "mean                 12.229271             15.351162             3.456520\n",
       "std                   4.282402              5.943859             1.404654\n",
       "min                   5.069480              5.098800             0.500000\n",
       "25%                   8.436489              9.824561             2.402386\n",
       "50%                  12.077324             15.794767             3.680261\n",
       "75%                  15.895052             20.546875             4.975178\n",
       "max                  19.995765             24.988275             5.000000"
      ]
     },
     "execution_count": 9,
     "metadata": {},
     "output_type": "execute_result"
    }
   ],
   "source": [
    "soil_stable.describe()"
   ]
  },
  {
   "cell_type": "code",
   "execution_count": 10,
   "id": "a5cc0bbd-4d04-4bfb-a559-868c8a586b16",
   "metadata": {},
   "outputs": [
    {
     "data": {
      "text/plain": [
       "Index(['Soil_Type', 'Additive_Type', 'Additive_Proportion (%)',\n",
       "       'Moisture_Content (%)', 'Comp_Strength (MPa)'],\n",
       "      dtype='object')"
      ]
     },
     "execution_count": 10,
     "metadata": {},
     "output_type": "execute_result"
    }
   ],
   "source": [
    "soil_stable.columns"
   ]
  },
  {
   "cell_type": "code",
   "execution_count": 11,
   "id": "3725bd04-62a0-40d5-a1ae-fe25e1399946",
   "metadata": {},
   "outputs": [
    {
     "data": {
      "text/plain": [
       "Soil_Type                   object\n",
       "Additive_Type               object\n",
       "Additive_Proportion (%)    float64\n",
       "Moisture_Content (%)       float64\n",
       "Comp_Strength (MPa)        float64\n",
       "dtype: object"
      ]
     },
     "execution_count": 11,
     "metadata": {},
     "output_type": "execute_result"
    }
   ],
   "source": [
    "soil_stable.dtypes"
   ]
  },
  {
   "cell_type": "code",
   "execution_count": 12,
   "id": "cda0e99e-769b-43f5-8b2c-68cc70933c75",
   "metadata": {},
   "outputs": [
    {
     "data": {
      "text/plain": [
       "Soil_Type                  0\n",
       "Additive_Type              0\n",
       "Additive_Proportion (%)    0\n",
       "Moisture_Content (%)       0\n",
       "Comp_Strength (MPa)        0\n",
       "dtype: int64"
      ]
     },
     "execution_count": 12,
     "metadata": {},
     "output_type": "execute_result"
    }
   ],
   "source": [
    "soil_stable.isnull().sum()"
   ]
  },
  {
   "cell_type": "code",
   "execution_count": 13,
   "id": "f2d2add1-36e0-469a-9fbb-8250171a3726",
   "metadata": {},
   "outputs": [
    {
     "data": {
      "text/plain": [
       "np.int64(0)"
      ]
     },
     "execution_count": 13,
     "metadata": {},
     "output_type": "execute_result"
    }
   ],
   "source": [
    "soil_stable.duplicated().sum()"
   ]
  },
  {
   "cell_type": "code",
   "execution_count": 14,
   "id": "7b7f91d4-1149-4236-a5fd-feef0f6cab01",
   "metadata": {},
   "outputs": [],
   "source": [
    "from sklearn.model_selection import train_test_split"
   ]
  },
  {
   "cell_type": "code",
   "execution_count": 17,
   "id": "48d9c4fc-cfa7-473b-88fb-eddb20ef29ab",
   "metadata": {},
   "outputs": [],
   "source": [
    "X = soil_stable['Comp_Strength (MPa)']"
   ]
  },
  {
   "cell_type": "code",
   "execution_count": 18,
   "id": "f71e1e20-9c82-4676-9ac9-b805bf734f3a",
   "metadata": {},
   "outputs": [
    {
     "data": {
      "text/plain": [
       "0    4.621096\n",
       "1    3.267365\n",
       "2    0.500000\n",
       "3    3.696233\n",
       "4    3.608744\n",
       "Name: Comp_Strength (MPa), dtype: float64"
      ]
     },
     "execution_count": 18,
     "metadata": {},
     "output_type": "execute_result"
    }
   ],
   "source": [
    "X.head()"
   ]
  },
  {
   "cell_type": "code",
   "execution_count": 22,
   "id": "6c94b65d-80f6-4d43-a5f2-41df7c88f6b4",
   "metadata": {},
   "outputs": [],
   "source": [
    "y = soil_stable[['Soil_Type', 'Additive_Type']]"
   ]
  },
  {
   "cell_type": "code",
   "execution_count": 23,
   "id": "a5a22f45-fa5d-4f4c-a1ba-495de9bbda6f",
   "metadata": {},
   "outputs": [
    {
     "data": {
      "text/html": [
       "<div>\n",
       "<style scoped>\n",
       "    .dataframe tbody tr th:only-of-type {\n",
       "        vertical-align: middle;\n",
       "    }\n",
       "\n",
       "    .dataframe tbody tr th {\n",
       "        vertical-align: top;\n",
       "    }\n",
       "\n",
       "    .dataframe thead th {\n",
       "        text-align: right;\n",
       "    }\n",
       "</style>\n",
       "<table border=\"1\" class=\"dataframe\">\n",
       "  <thead>\n",
       "    <tr style=\"text-align: right;\">\n",
       "      <th></th>\n",
       "      <th>Soil_Type</th>\n",
       "      <th>Additive_Type</th>\n",
       "    </tr>\n",
       "  </thead>\n",
       "  <tbody>\n",
       "    <tr>\n",
       "      <th>0</th>\n",
       "      <td>Sand</td>\n",
       "      <td>Fly Ash</td>\n",
       "    </tr>\n",
       "    <tr>\n",
       "      <th>1</th>\n",
       "      <td>Gravel</td>\n",
       "      <td>Lime</td>\n",
       "    </tr>\n",
       "    <tr>\n",
       "      <th>2</th>\n",
       "      <td>Clay</td>\n",
       "      <td>Lime</td>\n",
       "    </tr>\n",
       "    <tr>\n",
       "      <th>3</th>\n",
       "      <td>Sand</td>\n",
       "      <td>Bitumen</td>\n",
       "    </tr>\n",
       "    <tr>\n",
       "      <th>4</th>\n",
       "      <td>Sand</td>\n",
       "      <td>Fly Ash</td>\n",
       "    </tr>\n",
       "  </tbody>\n",
       "</table>\n",
       "</div>"
      ],
      "text/plain": [
       "  Soil_Type Additive_Type\n",
       "0      Sand       Fly Ash\n",
       "1    Gravel          Lime\n",
       "2      Clay          Lime\n",
       "3      Sand       Bitumen\n",
       "4      Sand       Fly Ash"
      ]
     },
     "execution_count": 23,
     "metadata": {},
     "output_type": "execute_result"
    }
   ],
   "source": [
    "y.head()"
   ]
  },
  {
   "cell_type": "code",
   "execution_count": 25,
   "id": "495ea035-7044-48df-9fb8-979dea10318c",
   "metadata": {},
   "outputs": [],
   "source": [
    "X_train, X_test, y_train, y_test = train_test_split (X, y, test_size = 0.3, random_state = 30)"
   ]
  },
  {
   "cell_type": "code",
   "execution_count": 26,
   "id": "e406f93d-6ff6-40e2-b8a6-7e4623b38d58",
   "metadata": {},
   "outputs": [
    {
     "data": {
      "text/plain": [
       "12     5.000000\n",
       "136    2.834004\n",
       "368    2.829120\n",
       "367    0.500000\n",
       "406    5.000000\n",
       "         ...   \n",
       "140    2.276307\n",
       "301    3.363557\n",
       "429    0.500000\n",
       "421    1.559674\n",
       "293    4.002620\n",
       "Name: Comp_Strength (MPa), Length: 350, dtype: float64"
      ]
     },
     "execution_count": 26,
     "metadata": {},
     "output_type": "execute_result"
    }
   ],
   "source": [
    "X_train"
   ]
  },
  {
   "cell_type": "code",
   "execution_count": 27,
   "id": "b8a24621-1868-42bd-a9f7-8ea1ea98189b",
   "metadata": {},
   "outputs": [
    {
     "data": {
      "text/plain": [
       "(350,)"
      ]
     },
     "execution_count": 27,
     "metadata": {},
     "output_type": "execute_result"
    }
   ],
   "source": [
    "X_train.shape"
   ]
  },
  {
   "cell_type": "code",
   "execution_count": 28,
   "id": "2d64d9a5-80b5-454d-a310-d7cbfb43fecc",
   "metadata": {},
   "outputs": [
    {
     "data": {
      "text/plain": [
       "(350, 2)"
      ]
     },
     "execution_count": 28,
     "metadata": {},
     "output_type": "execute_result"
    }
   ],
   "source": [
    "y_train.shape"
   ]
  },
  {
   "cell_type": "code",
   "execution_count": 29,
   "id": "f624274c-818e-4979-bbf0-70c8f0be6a81",
   "metadata": {},
   "outputs": [
    {
     "data": {
      "text/plain": [
       "(150,)"
      ]
     },
     "execution_count": 29,
     "metadata": {},
     "output_type": "execute_result"
    }
   ],
   "source": [
    "X_test.shape"
   ]
  },
  {
   "cell_type": "code",
   "execution_count": 30,
   "id": "3b15785c-4d27-42c0-adf9-8020ff0a66a6",
   "metadata": {},
   "outputs": [
    {
     "data": {
      "text/plain": [
       "(150, 2)"
      ]
     },
     "execution_count": 30,
     "metadata": {},
     "output_type": "execute_result"
    }
   ],
   "source": [
    "y_test.shape"
   ]
  },
  {
   "cell_type": "code",
   "execution_count": 31,
   "id": "4b136f72-3c19-4525-9b8f-d5b33d0010bd",
   "metadata": {},
   "outputs": [],
   "source": [
    "le = LabelEncoder()"
   ]
  },
  {
   "cell_type": "code",
   "execution_count": 33,
   "id": "1f87d0ab-f265-4bc4-b01f-327a61a06359",
   "metadata": {},
   "outputs": [
    {
     "data": {
      "text/html": [
       "<div>\n",
       "<style scoped>\n",
       "    .dataframe tbody tr th:only-of-type {\n",
       "        vertical-align: middle;\n",
       "    }\n",
       "\n",
       "    .dataframe tbody tr th {\n",
       "        vertical-align: top;\n",
       "    }\n",
       "\n",
       "    .dataframe thead th {\n",
       "        text-align: right;\n",
       "    }\n",
       "</style>\n",
       "<table border=\"1\" class=\"dataframe\">\n",
       "  <thead>\n",
       "    <tr style=\"text-align: right;\">\n",
       "      <th></th>\n",
       "      <th>Soil_Type</th>\n",
       "      <th>Additive_Type</th>\n",
       "      <th>Additive_Proportion (%)</th>\n",
       "      <th>Moisture_Content (%)</th>\n",
       "      <th>Comp_Strength (MPa)</th>\n",
       "    </tr>\n",
       "  </thead>\n",
       "  <tbody>\n",
       "    <tr>\n",
       "      <th>0</th>\n",
       "      <td>2</td>\n",
       "      <td>2</td>\n",
       "      <td>15.472426</td>\n",
       "      <td>8.702659</td>\n",
       "      <td>4.621096</td>\n",
       "    </tr>\n",
       "    <tr>\n",
       "      <th>1</th>\n",
       "      <td>1</td>\n",
       "      <td>3</td>\n",
       "      <td>13.041445</td>\n",
       "      <td>15.838019</td>\n",
       "      <td>3.267365</td>\n",
       "    </tr>\n",
       "    <tr>\n",
       "      <th>2</th>\n",
       "      <td>0</td>\n",
       "      <td>3</td>\n",
       "      <td>9.642914</td>\n",
       "      <td>22.458917</td>\n",
       "      <td>0.500000</td>\n",
       "    </tr>\n",
       "    <tr>\n",
       "      <th>3</th>\n",
       "      <td>2</td>\n",
       "      <td>0</td>\n",
       "      <td>17.206925</td>\n",
       "      <td>19.644498</td>\n",
       "      <td>3.696233</td>\n",
       "    </tr>\n",
       "    <tr>\n",
       "      <th>4</th>\n",
       "      <td>2</td>\n",
       "      <td>2</td>\n",
       "      <td>15.270968</td>\n",
       "      <td>21.131223</td>\n",
       "      <td>3.608744</td>\n",
       "    </tr>\n",
       "  </tbody>\n",
       "</table>\n",
       "</div>"
      ],
      "text/plain": [
       "   Soil_Type  Additive_Type  Additive_Proportion (%)  Moisture_Content (%)  \\\n",
       "0          2              2                15.472426              8.702659   \n",
       "1          1              3                13.041445             15.838019   \n",
       "2          0              3                 9.642914             22.458917   \n",
       "3          2              0                17.206925             19.644498   \n",
       "4          2              2                15.270968             21.131223   \n",
       "\n",
       "   Comp_Strength (MPa)  \n",
       "0             4.621096  \n",
       "1             3.267365  \n",
       "2             0.500000  \n",
       "3             3.696233  \n",
       "4             3.608744  "
      ]
     },
     "execution_count": 33,
     "metadata": {},
     "output_type": "execute_result"
    }
   ],
   "source": [
    "columns_to_encode = [\"Soil_Type\", \"Additive_Type\"]\n",
    "for columns in columns_to_encode:\n",
    "    soil_stable[columns] = le.fit_transform(soil_stable[columns])\n",
    "soil_stable.head()"
   ]
  }
 ],
 "metadata": {
  "kernelspec": {
   "display_name": "Python [conda env:base] *",
   "language": "python",
   "name": "conda-base-py"
  },
  "language_info": {
   "codemirror_mode": {
    "name": "ipython",
    "version": 3
   },
   "file_extension": ".py",
   "mimetype": "text/x-python",
   "name": "python",
   "nbconvert_exporter": "python",
   "pygments_lexer": "ipython3",
   "version": "3.13.5"
  }
 },
 "nbformat": 4,
 "nbformat_minor": 5
}
