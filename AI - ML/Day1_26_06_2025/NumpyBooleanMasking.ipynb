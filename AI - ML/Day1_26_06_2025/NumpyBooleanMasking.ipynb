{
 "cells": [
  {
   "cell_type": "code",
   "execution_count": 1,
   "id": "cdfe0819-d405-4918-9858-da728badc5a4",
   "metadata": {},
   "outputs": [
    {
     "name": "stdout",
     "output_type": "stream",
     "text": [
      "Mask: [False False False  True  True]\n",
      "Filtered values: [45 50]\n"
     ]
    }
   ],
   "source": [
    "import numpy as np\n",
    "arr = np.array([10, 25, 30, 45, 50])\n",
    "mask = arr > 30\n",
    "print(\"Mask:\", mask)\n",
    "print(\"Filtered values:\", arr[mask])"
   ]
  },
  {
   "cell_type": "code",
   "execution_count": null,
   "id": "0552c604-5d96-4c0f-b6fd-2689f87c030e",
   "metadata": {},
   "outputs": [],
   "source": []
  }
 ],
 "metadata": {
  "kernelspec": {
   "display_name": "Python [conda env:base] *",
   "language": "python",
   "name": "conda-base-py"
  },
  "language_info": {
   "codemirror_mode": {
    "name": "ipython",
    "version": 3
   },
   "file_extension": ".py",
   "mimetype": "text/x-python",
   "name": "python",
   "nbconvert_exporter": "python",
   "pygments_lexer": "ipython3",
   "version": "3.13.5"
  }
 },
 "nbformat": 4,
 "nbformat_minor": 5
}
