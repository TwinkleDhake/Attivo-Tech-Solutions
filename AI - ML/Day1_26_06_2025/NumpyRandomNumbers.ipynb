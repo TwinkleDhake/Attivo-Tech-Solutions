{
 "cells": [
  {
   "cell_type": "code",
   "execution_count": 1,
   "id": "cdfe0819-d405-4918-9858-da728badc5a4",
   "metadata": {},
   "outputs": [
    {
     "name": "stdout",
     "output_type": "stream",
     "text": [
      "Random Array:\n",
      " [[0.9325733  0.5666691  0.57535395]\n",
      " [0.98402706 0.81884436 0.85235259]\n",
      " [0.22117762 0.23651791 0.88193676]]\n"
     ]
    }
   ],
   "source": [
    "import numpy as np\n",
    "random_arr = np.random.rand(3, 3)\n",
    "print(\"Random Array:\\n\", random_arr)"
   ]
  },
  {
   "cell_type": "code",
   "execution_count": null,
   "id": "11c870b8-8cfc-4f08-9070-fea45a9d02f3",
   "metadata": {},
   "outputs": [],
   "source": []
  }
 ],
 "metadata": {
  "kernelspec": {
   "display_name": "Python [conda env:base] *",
   "language": "python",
   "name": "conda-base-py"
  },
  "language_info": {
   "codemirror_mode": {
    "name": "ipython",
    "version": 3
   },
   "file_extension": ".py",
   "mimetype": "text/x-python",
   "name": "python",
   "nbconvert_exporter": "python",
   "pygments_lexer": "ipython3",
   "version": "3.13.5"
  }
 },
 "nbformat": 4,
 "nbformat_minor": 5
}
