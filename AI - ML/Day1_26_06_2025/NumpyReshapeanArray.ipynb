{
 "cells": [
  {
   "cell_type": "code",
   "execution_count": 5,
   "id": "cdfe0819-d405-4918-9858-da728badc5a4",
   "metadata": {},
   "outputs": [
    {
     "name": "stdout",
     "output_type": "stream",
     "text": [
      "Reshaped array:\n",
      " [[1 2 3 4]\n",
      " [5 6 7 8]]\n"
     ]
    }
   ],
   "source": [
    "import numpy as np\n",
    "arr = np.arange(1, 9)\n",
    "reshape = arr.reshape((2, 4))\n",
    "print(\"Reshaped array:\\n\", reshaped)"
   ]
  },
  {
   "cell_type": "code",
   "execution_count": null,
   "id": "bbb6f582-98fa-4713-80bc-cb7aca7c4628",
   "metadata": {},
   "outputs": [],
   "source": []
  }
 ],
 "metadata": {
  "kernelspec": {
   "display_name": "Python [conda env:base] *",
   "language": "python",
   "name": "conda-base-py"
  },
  "language_info": {
   "codemirror_mode": {
    "name": "ipython",
    "version": 3
   },
   "file_extension": ".py",
   "mimetype": "text/x-python",
   "name": "python",
   "nbconvert_exporter": "python",
   "pygments_lexer": "ipython3",
   "version": "3.13.5"
  }
 },
 "nbformat": 4,
 "nbformat_minor": 5
}
