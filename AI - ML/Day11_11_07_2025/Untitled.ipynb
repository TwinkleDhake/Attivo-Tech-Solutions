{
 "cells": [
  {
   "cell_type": "code",
   "execution_count": 1,
   "id": "e1c74de5-c74b-4c33-aa21-732a18f845e2",
   "metadata": {},
   "outputs": [],
   "source": [
    "import pandas as pd"
   ]
  },
  {
   "cell_type": "code",
   "execution_count": 2,
   "id": "ab126bdc-defd-4100-a6c1-1808f864bac7",
   "metadata": {},
   "outputs": [],
   "source": [
    "source_df = pd.read_csv(r'D:\\Attivo Trainning\\Technical Videos\\AI_ML\\Jupyter Notebook Daily Practice\\Day11_11_07_2025\\Customer Support on Twitter\\sample.csv')"
   ]
  },
  {
   "cell_type": "raw",
   "id": "190b3ad4-26c5-4f8a-9489-dd9d0eef83b0",
   "metadata": {},
   "source": [
    "source_df.head()"
   ]
  },
  {
   "cell_type": "code",
   "execution_count": 3,
   "id": "6d7a0de0-7258-4565-813c-f2481a773983",
   "metadata": {},
   "outputs": [
    {
     "data": {
      "text/plain": [
       "(93, 7)"
      ]
     },
     "execution_count": 3,
     "metadata": {},
     "output_type": "execute_result"
    }
   ],
   "source": [
    "source_df.shape"
   ]
  },
  {
   "cell_type": "code",
   "execution_count": 4,
   "id": "1091876d-9266-442d-9961-76d560298f38",
   "metadata": {},
   "outputs": [],
   "source": [
    "df = source_df['text']"
   ]
  },
  {
   "cell_type": "code",
   "execution_count": 5,
   "id": "e01249df-edcc-4aca-9748-87f7847d9b51",
   "metadata": {},
   "outputs": [
    {
     "data": {
      "text/plain": [
       "0    @AppleSupport causing the reply to be disregar...\n",
       "1    @105835 Your business means a lot to us. Pleas...\n",
       "2    @76328 I really hope you all change but I'm su...\n",
       "3    @105836 LiveChat is online at the moment - htt...\n",
       "4    @VirginTrains see attached error message. I've...\n",
       "Name: text, dtype: object"
      ]
     },
     "execution_count": 5,
     "metadata": {},
     "output_type": "execute_result"
    }
   ],
   "source": [
    "df.head()"
   ]
  },
  {
   "cell_type": "code",
   "execution_count": 6,
   "id": "b48bf28d-5feb-4246-9e6d-1512ef652d6c",
   "metadata": {},
   "outputs": [],
   "source": [
    "import string"
   ]
  },
  {
   "cell_type": "code",
   "execution_count": 7,
   "id": "17888ac9-daec-4cbd-b013-15a7dceaa1be",
   "metadata": {},
   "outputs": [],
   "source": [
    "lwr_cs = df.str.lower()"
   ]
  },
  {
   "cell_type": "code",
   "execution_count": 8,
   "id": "eb00723d-6e23-4396-9cf2-dbdc481f9702",
   "metadata": {},
   "outputs": [
    {
     "data": {
      "text/plain": [
       "0    @applesupport causing the reply to be disregar...\n",
       "1    @105835 your business means a lot to us. pleas...\n",
       "2    @76328 i really hope you all change but i'm su...\n",
       "3    @105836 livechat is online at the moment - htt...\n",
       "4    @virgintrains see attached error message. i've...\n",
       "Name: text, dtype: object"
      ]
     },
     "execution_count": 8,
     "metadata": {},
     "output_type": "execute_result"
    }
   ],
   "source": [
    "lwr_cs.head()"
   ]
  },
  {
   "cell_type": "code",
   "execution_count": 9,
   "id": "daa3cb7b-231f-4023-9325-73896bf5bce8",
   "metadata": {},
   "outputs": [],
   "source": [
    "from nltk.tokenize import word_tokenize\n",
    "from nltk.corpus import stopwords\n",
    "from nltk.stem import PorterStemmer, WordNetLemmatizer\n",
    "import nltk"
   ]
  },
  {
   "cell_type": "code",
   "execution_count": 10,
   "id": "1f2dd442-959a-469c-a5f4-59d3cd8c28b7",
   "metadata": {},
   "outputs": [
    {
     "name": "stderr",
     "output_type": "stream",
     "text": [
      "[nltk_data] Downloading package punkt to\n",
      "[nltk_data]     C:\\Users\\Boss\\AppData\\Roaming\\nltk_data...\n",
      "[nltk_data]   Package punkt is already up-to-date!\n",
      "[nltk_data] Downloading package stopwords to\n",
      "[nltk_data]     C:\\Users\\Boss\\AppData\\Roaming\\nltk_data...\n",
      "[nltk_data]   Package stopwords is already up-to-date!\n",
      "[nltk_data] Downloading package wordnet to\n",
      "[nltk_data]     C:\\Users\\Boss\\AppData\\Roaming\\nltk_data...\n",
      "[nltk_data]   Package wordnet is already up-to-date!\n"
     ]
    },
    {
     "data": {
      "text/plain": [
       "True"
      ]
     },
     "execution_count": 10,
     "metadata": {},
     "output_type": "execute_result"
    }
   ],
   "source": [
    "nltk.download('punkt')\n",
    "nltk.download('stopwords')\n",
    "nltk.download('wordnet')"
   ]
  },
  {
   "cell_type": "code",
   "execution_count": 11,
   "id": "6a12f122-f25c-4cdd-bf67-a65515f03ae4",
   "metadata": {},
   "outputs": [
    {
     "data": {
      "text/plain": [
       "\"a,about,above,after,again,against,ain,all,am,an,and,any,are,aren,aren't,as,at,be,because,been,before,being,below,between,both,but,by,can,couldn,couldn't,d,did,didn,didn't,do,does,doesn,doesn't,doing,don,don't,down,during,each,few,for,from,further,had,hadn,hadn't,has,hasn,hasn't,have,haven,haven't,having,he,he'd,he'll,her,here,hers,herself,he's,him,himself,his,how,i,i'd,if,i'll,i'm,in,into,is,isn,isn't,it,it'd,it'll,it's,its,itself,i've,just,ll,m,ma,me,mightn,mightn't,more,most,mustn,mustn't,my,myself,needn,needn't,no,nor,not,now,o,of,off,on,once,only,or,other,our,ours,ourselves,out,over,own,re,s,same,shan,shan't,she,she'd,she'll,she's,should,shouldn,shouldn't,should've,so,some,such,t,than,that,that'll,the,their,theirs,them,themselves,then,there,these,they,they'd,they'll,they're,they've,this,those,through,to,too,under,until,up,ve,very,was,wasn,wasn't,we,we'd,we'll,we're,were,weren,weren't,we've,what,when,where,which,while,who,whom,why,will,with,won,won't,wouldn,wouldn't,y,you,you'd,you'll,your,you're,yours,yourself,yourselves,you've\""
      ]
     },
     "execution_count": 11,
     "metadata": {},
     "output_type": "execute_result"
    }
   ],
   "source": [
    "','.join(stopwords.words('English'))"
   ]
  },
  {
   "cell_type": "code",
   "execution_count": 12,
   "id": "fb92c861-44a4-435b-9bff-4e6e0fe2a0b2",
   "metadata": {},
   "outputs": [
    {
     "name": "stdout",
     "output_type": "stream",
     "text": [
      "0     [@, applesupport, causing, the, reply, to, be,...\n",
      "1     [@, 105835, your, business, means, a, lot, to,...\n",
      "2     [@, 76328, i, really, hope, you, all, change, ...\n",
      "3     [@, 105836, livechat, is, online, at, the, mom...\n",
      "4     [@, virgintrains, see, attached, error, messag...\n",
      "                            ...                        \n",
      "88    [@, 105860, i, wish, amazon, had, an, option, ...\n",
      "89    [they, reschedule, my, shit, for, tomorrow, ht...\n",
      "90    [@, 105861, hey, sara, ,, sorry, to, hear, of,...\n",
      "91    [@, tesco, bit, of, both, -, finding, the, lay...\n",
      "92    [@, 105861, if, that, does, n't, help, please,...\n",
      "Name: text, Length: 93, dtype: object\n"
     ]
    }
   ],
   "source": [
    "tokenized = lwr_cs.apply(lambda x: word_tokenize(x, preserve_line=True))\n",
    "print(tokenized)"
   ]
  },
  {
   "cell_type": "code",
   "execution_count": 13,
   "id": "9cb7bc31-58a9-435d-8b19-e00db5315f23",
   "metadata": {},
   "outputs": [],
   "source": [
    "stop_words = set(stopwords.words('english'))"
   ]
  },
  {
   "cell_type": "code",
   "execution_count": 14,
   "id": "cfb77553-2bb6-4f9d-b850-7295ad6e0756",
   "metadata": {},
   "outputs": [
    {
     "name": "stdout",
     "output_type": "stream",
     "text": [
      "0     [applesupport, causing, reply, disregarded, ta...\n",
      "1     [105835, business, means, lot, us., please, dm...\n",
      "2     [76328, really, hope, change, 'm, sure, wo, n'...\n",
      "3     [105836, livechat, online, moment, https, //t....\n",
      "4     [virgintrains, see, attached, error, message.,...\n",
      "                            ...                        \n",
      "88    [105860, wish, amazon, option, get, shipped, u...\n",
      "89    [reschedule, shit, tomorrow, https, //t.co/rsv...\n",
      "90    [105861, hey, sara, sorry, hear, issues, ask, ...\n",
      "91    [tesco, bit, finding, layout, cumbersome, remo...\n",
      "92    [105861, n't, help, please, dm, full, name, ad...\n",
      "Name: text, Length: 93, dtype: object\n"
     ]
    }
   ],
   "source": [
    "filtered_tokens = tokenized.apply(lambda tokens:[token for token in tokens if token not in stop_words and len(token)>1])\n",
    "print(filtered_tokens)"
   ]
  },
  {
   "cell_type": "code",
   "execution_count": null,
   "id": "4352ecf6-d873-4efc-8b6d-38742f6835fe",
   "metadata": {},
   "outputs": [],
   "source": []
  }
 ],
 "metadata": {
  "kernelspec": {
   "display_name": "Python [conda env:base] *",
   "language": "python",
   "name": "conda-base-py"
  },
  "language_info": {
   "codemirror_mode": {
    "name": "ipython",
    "version": 3
   },
   "file_extension": ".py",
   "mimetype": "text/x-python",
   "name": "python",
   "nbconvert_exporter": "python",
   "pygments_lexer": "ipython3",
   "version": "3.13.5"
  }
 },
 "nbformat": 4,
 "nbformat_minor": 5
}
