{
 "cells": [
  {
   "cell_type": "code",
   "execution_count": 1,
   "id": "e1c74de5-c74b-4c33-aa21-732a18f845e2",
   "metadata": {},
   "outputs": [],
   "source": [
    "import pandas as pd"
   ]
  },
  {
   "cell_type": "code",
   "execution_count": 2,
   "id": "ab126bdc-defd-4100-a6c1-1808f864bac7",
   "metadata": {},
   "outputs": [],
   "source": [
    "source_df = pd.read_csv(r'D:\\Attivo Trainning\\Technical Videos\\AI_ML\\Jupyter Notebook Daily Practice\\Day11_11_07_2025\\Customer Support on Twitter\\sample.csv')"
   ]
  },
  {
   "cell_type": "raw",
   "id": "190b3ad4-26c5-4f8a-9489-dd9d0eef83b0",
   "metadata": {},
   "source": [
    "source_df.head()"
   ]
  },
  {
   "cell_type": "code",
   "execution_count": 3,
   "id": "6d7a0de0-7258-4565-813c-f2481a773983",
   "metadata": {},
   "outputs": [
    {
     "data": {
      "text/plain": [
       "(93, 7)"
      ]
     },
     "execution_count": 3,
     "metadata": {},
     "output_type": "execute_result"
    }
   ],
   "source": [
    "source_df.shape"
   ]
  },
  {
   "cell_type": "code",
   "execution_count": 4,
   "id": "1091876d-9266-442d-9961-76d560298f38",
   "metadata": {},
   "outputs": [],
   "source": [
    "df = source_df['text']"
   ]
  },
  {
   "cell_type": "code",
   "execution_count": 5,
   "id": "e01249df-edcc-4aca-9748-87f7847d9b51",
   "metadata": {},
   "outputs": [
    {
     "data": {
      "text/plain": [
       "0    @AppleSupport causing the reply to be disregar...\n",
       "1    @105835 Your business means a lot to us. Pleas...\n",
       "2    @76328 I really hope you all change but I'm su...\n",
       "3    @105836 LiveChat is online at the moment - htt...\n",
       "4    @VirginTrains see attached error message. I've...\n",
       "Name: text, dtype: object"
      ]
     },
     "execution_count": 5,
     "metadata": {},
     "output_type": "execute_result"
    }
   ],
   "source": [
    "df.head()"
   ]
  },
  {
   "cell_type": "code",
   "execution_count": 6,
   "id": "b48bf28d-5feb-4246-9e6d-1512ef652d6c",
   "metadata": {},
   "outputs": [],
   "source": [
    "import string"
   ]
  },
  {
   "cell_type": "code",
   "execution_count": 7,
   "id": "17888ac9-daec-4cbd-b013-15a7dceaa1be",
   "metadata": {},
   "outputs": [],
   "source": [
    "# Removal of Lower strings\n",
    "lwr_cs = df.str.lower()"
   ]
  },
  {
   "cell_type": "code",
   "execution_count": 8,
   "id": "eb00723d-6e23-4396-9cf2-dbdc481f9702",
   "metadata": {},
   "outputs": [
    {
     "data": {
      "text/plain": [
       "0    @applesupport causing the reply to be disregar...\n",
       "1    @105835 your business means a lot to us. pleas...\n",
       "2    @76328 i really hope you all change but i'm su...\n",
       "3    @105836 livechat is online at the moment - htt...\n",
       "4    @virgintrains see attached error message. i've...\n",
       "Name: text, dtype: object"
      ]
     },
     "execution_count": 8,
     "metadata": {},
     "output_type": "execute_result"
    }
   ],
   "source": [
    "lwr_cs.head()"
   ]
  },
  {
   "cell_type": "code",
   "execution_count": 9,
   "id": "daa3cb7b-231f-4023-9325-73896bf5bce8",
   "metadata": {},
   "outputs": [],
   "source": [
    "from nltk.tokenize import word_tokenize\n",
    "from nltk.corpus import stopwords\n",
    "from nltk.stem import PorterStemmer, WordNetLemmatizer\n",
    "import nltk"
   ]
  },
  {
   "cell_type": "code",
   "execution_count": 10,
   "id": "1f2dd442-959a-469c-a5f4-59d3cd8c28b7",
   "metadata": {},
   "outputs": [
    {
     "name": "stderr",
     "output_type": "stream",
     "text": [
      "[nltk_data] Downloading package punkt to\n",
      "[nltk_data]     C:\\Users\\Boss\\AppData\\Roaming\\nltk_data...\n",
      "[nltk_data]   Package punkt is already up-to-date!\n",
      "[nltk_data] Downloading package stopwords to\n",
      "[nltk_data]     C:\\Users\\Boss\\AppData\\Roaming\\nltk_data...\n",
      "[nltk_data]   Package stopwords is already up-to-date!\n",
      "[nltk_data] Downloading package wordnet to\n",
      "[nltk_data]     C:\\Users\\Boss\\AppData\\Roaming\\nltk_data...\n",
      "[nltk_data]   Package wordnet is already up-to-date!\n"
     ]
    },
    {
     "data": {
      "text/plain": [
       "True"
      ]
     },
     "execution_count": 10,
     "metadata": {},
     "output_type": "execute_result"
    }
   ],
   "source": [
    "nltk.download('punkt')\n",
    "nltk.download('stopwords')\n",
    "nltk.download('wordnet')"
   ]
  },
  {
   "cell_type": "code",
   "execution_count": 11,
   "id": "77f1747b-bd63-4593-9bc4-23b910357525",
   "metadata": {},
   "outputs": [],
   "source": [
    "import re"
   ]
  },
  {
   "cell_type": "code",
   "execution_count": 12,
   "id": "6b3fb93d-251c-4863-8a89-6d43ac052585",
   "metadata": {},
   "outputs": [
    {
     "data": {
      "text/plain": [
       "0      causing the reply to be disregarded and the t...\n",
       "1      your business means a lot to us. please dm yo...\n",
       "2      i really hope you all change but i'm sure you...\n",
       "3      livechat is online at the moment - https://t....\n",
       "4      see attached error message. i've tried leavin...\n",
       "                            ...                        \n",
       "88     i wish amazon had an option of where i can ju...\n",
       "89    they reschedule my shit for tomorrow https://t...\n",
       "90     hey sara, sorry to hear of the issues you are...\n",
       "91     bit of both - finding the layout cumbersome a...\n",
       "92     if that doesn't help please dm your full name...\n",
       "Name: text, Length: 93, dtype: object"
      ]
     },
     "execution_count": 12,
     "metadata": {},
     "output_type": "execute_result"
    }
   ],
   "source": [
    "# Removal of @mentions\n",
    "no_mentions = lwr_cs.apply(lambda x: re.sub(r'@\\w+','',x))\n",
    "no_mentions"
   ]
  },
  {
   "cell_type": "code",
   "execution_count": 13,
   "id": "563823a3-ccbd-4f3e-8038-bd0bfb9c172b",
   "metadata": {},
   "outputs": [
    {
     "data": {
      "text/plain": [
       "0      causing the reply to be disregarded and the t...\n",
       "1      your business means a lot to us. please dm yo...\n",
       "2      i really hope you all change but i'm sure you...\n",
       "3      livechat is online at the moment -  or contac...\n",
       "4      see attached error message. i've tried leavin...\n",
       "                            ...                        \n",
       "88     i wish amazon had an option of where i can ju...\n",
       "89                they reschedule my shit for tomorrow \n",
       "90     hey sara, sorry to hear of the issues you are...\n",
       "91     bit of both - finding the layout cumbersome a...\n",
       "92     if that doesn't help please dm your full name...\n",
       "Name: text, Length: 93, dtype: object"
      ]
     },
     "execution_count": 13,
     "metadata": {},
     "output_type": "execute_result"
    }
   ],
   "source": [
    "# Removal of URLs\n",
    "no_url = no_mentions.apply(lambda x: re.sub(r'https?://\\S+|www\\.\\S+','',x))\n",
    "no_url"
   ]
  },
  {
   "cell_type": "code",
   "execution_count": 14,
   "id": "ac8af318-1be7-4aaf-99a8-bd3fe09329d6",
   "metadata": {},
   "outputs": [
    {
     "data": {
      "text/plain": [
       "0      causing the reply to be disregarded and the t...\n",
       "1      your business means a lot to us. please dm yo...\n",
       "2      i really hope you all change but i'm sure you...\n",
       "3      livechat is online at the moment -  or contac...\n",
       "4      see attached error message. i've tried leavin...\n",
       "                            ...                        \n",
       "88     i wish amazon had an option of where i can ju...\n",
       "89                they reschedule my shit for tomorrow \n",
       "90     hey sara, sorry to hear of the issues you are...\n",
       "91     bit of both - finding the layout cumbersome a...\n",
       "92     if that doesn't help please dm your full name...\n",
       "Name: text, Length: 93, dtype: object"
      ]
     },
     "execution_count": 14,
     "metadata": {},
     "output_type": "execute_result"
    }
   ],
   "source": [
    "# Removal of Hashtags\n",
    "no_hashtags = no_url.apply(lambda x: re.sub(r'#\\S+','',x))\n",
    "no_hashtags"
   ]
  },
  {
   "cell_type": "code",
   "execution_count": 15,
   "id": "211657b2-9bb6-405d-b009-dbd479f71975",
   "metadata": {},
   "outputs": [
    {
     "data": {
      "text/plain": [
       "0      causing the reply to be disregarded and the t...\n",
       "1      your business means a lot to us. please dm yo...\n",
       "2      i really hope you all change but i'm sure you...\n",
       "3      livechat is online at the moment -  or contac...\n",
       "4      see attached error message. i've tried leavin...\n",
       "                            ...                        \n",
       "88     i wish amazon had an option of where i can ju...\n",
       "89                they reschedule my shit for tomorrow \n",
       "90     hey sara, sorry to hear of the issues you are...\n",
       "91     bit of both - finding the layout cumbersome a...\n",
       "92     if that doesn't help please dm your full name...\n",
       "Name: text, Length: 93, dtype: object"
      ]
     },
     "execution_count": 15,
     "metadata": {},
     "output_type": "execute_result"
    }
   ],
   "source": [
    "# Removal of Numbers\n",
    "no_numbers = no_hashtags.apply(lambda x: re.sub(r'\\d+','',x))\n",
    "no_numbers"
   ]
  },
  {
   "cell_type": "code",
   "execution_count": 16,
   "id": "6a12f122-f25c-4cdd-bf67-a65515f03ae4",
   "metadata": {},
   "outputs": [
    {
     "data": {
      "text/plain": [
       "\"a,about,above,after,again,against,ain,all,am,an,and,any,are,aren,aren't,as,at,be,because,been,before,being,below,between,both,but,by,can,couldn,couldn't,d,did,didn,didn't,do,does,doesn,doesn't,doing,don,don't,down,during,each,few,for,from,further,had,hadn,hadn't,has,hasn,hasn't,have,haven,haven't,having,he,he'd,he'll,her,here,hers,herself,he's,him,himself,his,how,i,i'd,if,i'll,i'm,in,into,is,isn,isn't,it,it'd,it'll,it's,its,itself,i've,just,ll,m,ma,me,mightn,mightn't,more,most,mustn,mustn't,my,myself,needn,needn't,no,nor,not,now,o,of,off,on,once,only,or,other,our,ours,ourselves,out,over,own,re,s,same,shan,shan't,she,she'd,she'll,she's,should,shouldn,shouldn't,should've,so,some,such,t,than,that,that'll,the,their,theirs,them,themselves,then,there,these,they,they'd,they'll,they're,they've,this,those,through,to,too,under,until,up,ve,very,was,wasn,wasn't,we,we'd,we'll,we're,were,weren,weren't,we've,what,when,where,which,while,who,whom,why,will,with,won,won't,wouldn,wouldn't,y,you,you'd,you'll,your,you're,yours,yourself,yourselves,you've\""
      ]
     },
     "execution_count": 16,
     "metadata": {},
     "output_type": "execute_result"
    }
   ],
   "source": [
    "','.join(stopwords.words('English'))"
   ]
  },
  {
   "cell_type": "code",
   "execution_count": 17,
   "id": "fb92c861-44a4-435b-9bff-4e6e0fe2a0b2",
   "metadata": {},
   "outputs": [
    {
     "name": "stdout",
     "output_type": "stream",
     "text": [
      "0     [causing, the, reply, to, be, disregarded, and...\n",
      "1     [your, business, means, a, lot, to, us., pleas...\n",
      "2     [i, really, hope, you, all, change, but, i, 'm...\n",
      "3     [livechat, is, online, at, the, moment, -, or,...\n",
      "4     [see, attached, error, message., i, 've, tried...\n",
      "                            ...                        \n",
      "88    [i, wish, amazon, had, an, option, of, where, ...\n",
      "89          [they, reschedule, my, shit, for, tomorrow]\n",
      "90    [hey, sara, ,, sorry, to, hear, of, the, issue...\n",
      "91    [bit, of, both, -, finding, the, layout, cumbe...\n",
      "92    [if, that, does, n't, help, please, dm, your, ...\n",
      "Name: text, Length: 93, dtype: object\n"
     ]
    }
   ],
   "source": [
    "tokenized = no_numbers.apply(lambda x: word_tokenize(x, preserve_line=True))\n",
    "print(tokenized)"
   ]
  },
  {
   "cell_type": "code",
   "execution_count": 18,
   "id": "9cb7bc31-58a9-435d-8b19-e00db5315f23",
   "metadata": {},
   "outputs": [
    {
     "name": "stdout",
     "output_type": "stream",
     "text": [
      "0     [causing, reply, disregarded, tapped, notifica...\n",
      "1     [business, means, lot, us., please, dm, name, ...\n",
      "2        [really, hope, change, 'm, sure, wo, n't, n't]\n",
      "3     [livechat, online, moment, contact, option, le...\n",
      "4     [see, attached, error, message., 've, tried, l...\n",
      "                            ...                        \n",
      "88    [wish, amazon, option, get, shipped, ups, stor...\n",
      "89                         [reschedule, shit, tomorrow]\n",
      "90    [hey, sara, sorry, hear, issues, ask, 's, lay,...\n",
      "91    [bit, finding, layout, cumbersome, removing, i...\n",
      "92    [n't, help, please, dm, full, name, address, e...\n",
      "Name: text, Length: 93, dtype: object\n"
     ]
    }
   ],
   "source": [
    "# stop_word Removal\n",
    "stop_words = set(stopwords.words('english'))\n",
    "filtered_tokens = tokenized.apply(lambda tokens:[token for token in tokens if token not in stop_words and len(token)>1])    \n",
    "print(filtered_tokens)"
   ]
  },
  {
   "cell_type": "code",
   "execution_count": 19,
   "id": "4352ecf6-d873-4efc-8b6d-38742f6835fe",
   "metadata": {},
   "outputs": [
    {
     "data": {
      "text/plain": [
       "0     [caus, repli, disregard, tap, notif, keyboard,...\n",
       "1     [busi, mean, lot, us., pleas, dm, name, zip, c...\n",
       "2         [realli, hope, chang, 'm, sure, wo, n't, n't]\n",
       "3     [livechat, onlin, moment, contact, option, lea...\n",
       "4     [see, attach, error, message., 've, tri, leav,...\n",
       "                            ...                        \n",
       "88    [wish, amazon, option, get, ship, up, store, a...\n",
       "89                          [reschedul, shit, tomorrow]\n",
       "90    [hey, sara, sorri, hear, issu, ask, 's, lay, s...\n",
       "91    [bit, find, layout, cumbersom, remov, item, fa...\n",
       "92    [n't, help, pleas, dm, full, name, address, em...\n",
       "Name: text, Length: 93, dtype: object"
      ]
     },
     "execution_count": 19,
     "metadata": {},
     "output_type": "execute_result"
    }
   ],
   "source": [
    "# Stemming\n",
    "stemmer = PorterStemmer()\n",
    "stemmed_tokens = filtered_tokens.apply(lambda tokens: [stemmer.stem(token) for token in tokens])\n",
    "stemmed_tokens"
   ]
  },
  {
   "cell_type": "code",
   "execution_count": 20,
   "id": "e37ae24b-33b3-41c5-a53b-7c9f1e038615",
   "metadata": {},
   "outputs": [
    {
     "data": {
      "text/plain": [
       "0     [caus, repli, disregard, tap, notif, keyboard,...\n",
       "1     [busi, mean, lot, us., plea, dm, name, zip, co...\n",
       "2         [realli, hope, chang, 'm, sure, wo, n't, n't]\n",
       "3     [livechat, onlin, moment, contact, option, lea...\n",
       "4     [see, attach, error, message., 've, tri, leav,...\n",
       "                            ...                        \n",
       "88    [wish, amazon, option, get, ship, up, store, a...\n",
       "89                          [reschedul, shit, tomorrow]\n",
       "90    [hey, sara, sorri, hear, issu, ask, 's, lay, s...\n",
       "91    [bit, find, layout, cumbersom, remov, item, fa...\n",
       "92    [n't, help, plea, dm, full, name, address, ema...\n",
       "Name: text, Length: 93, dtype: object"
      ]
     },
     "execution_count": 20,
     "metadata": {},
     "output_type": "execute_result"
    }
   ],
   "source": [
    "# Lemmatization\n",
    "lemmatizer = WordNetLemmatizer()\n",
    "lemmatized_tokens = stemmed_tokens.apply(lambda tokens: [lemmatizer.lemmatize(token) for token in tokens])\n",
    "lemmatized_tokens"
   ]
  },
  {
   "cell_type": "code",
   "execution_count": 21,
   "id": "660003ab-29ba-4077-93c8-71ddb99352f9",
   "metadata": {},
   "outputs": [],
   "source": [
    "final_cleaned_text = lemmatized_tokens.apply(lambda tokens: ''.join(tokens))"
   ]
  },
  {
   "cell_type": "code",
   "execution_count": 22,
   "id": "c20d136e-3b2d-4e6d-8d9a-275dd4750109",
   "metadata": {
    "scrolled": true
   },
   "outputs": [],
   "source": [
    "source_df['Cleaned'] = final_cleaned_text"
   ]
  },
  {
   "cell_type": "code",
   "execution_count": 23,
   "id": "d8f0d1a9-ceda-4b7f-afbd-9f9ecf894be2",
   "metadata": {},
   "outputs": [
    {
     "data": {
      "text/html": [
       "<div>\n",
       "<style scoped>\n",
       "    .dataframe tbody tr th:only-of-type {\n",
       "        vertical-align: middle;\n",
       "    }\n",
       "\n",
       "    .dataframe tbody tr th {\n",
       "        vertical-align: top;\n",
       "    }\n",
       "\n",
       "    .dataframe thead th {\n",
       "        text-align: right;\n",
       "    }\n",
       "</style>\n",
       "<table border=\"1\" class=\"dataframe\">\n",
       "  <thead>\n",
       "    <tr style=\"text-align: right;\">\n",
       "      <th></th>\n",
       "      <th>tweet_id</th>\n",
       "      <th>author_id</th>\n",
       "      <th>inbound</th>\n",
       "      <th>created_at</th>\n",
       "      <th>text</th>\n",
       "      <th>response_tweet_id</th>\n",
       "      <th>in_response_to_tweet_id</th>\n",
       "      <th>Cleaned</th>\n",
       "    </tr>\n",
       "  </thead>\n",
       "  <tbody>\n",
       "    <tr>\n",
       "      <th>0</th>\n",
       "      <td>119237</td>\n",
       "      <td>105834</td>\n",
       "      <td>True</td>\n",
       "      <td>Wed Oct 11 06:55:44 +0000 2017</td>\n",
       "      <td>@AppleSupport causing the reply to be disregar...</td>\n",
       "      <td>119236</td>\n",
       "      <td>NaN</td>\n",
       "      <td>causreplidisregardtapnotifkeyboardopened😡😡😡</td>\n",
       "    </tr>\n",
       "    <tr>\n",
       "      <th>1</th>\n",
       "      <td>119238</td>\n",
       "      <td>ChaseSupport</td>\n",
       "      <td>False</td>\n",
       "      <td>Wed Oct 11 13:25:49 +0000 2017</td>\n",
       "      <td>@105835 Your business means a lot to us. Pleas...</td>\n",
       "      <td>NaN</td>\n",
       "      <td>119239.0</td>\n",
       "      <td>busimeanlotus.pleadmnamezipcodeadditdetailconc...</td>\n",
       "    </tr>\n",
       "    <tr>\n",
       "      <th>2</th>\n",
       "      <td>119239</td>\n",
       "      <td>105835</td>\n",
       "      <td>True</td>\n",
       "      <td>Wed Oct 11 13:00:09 +0000 2017</td>\n",
       "      <td>@76328 I really hope you all change but I'm su...</td>\n",
       "      <td>119238</td>\n",
       "      <td>NaN</td>\n",
       "      <td>reallihopechang'msurewon'tn't</td>\n",
       "    </tr>\n",
       "    <tr>\n",
       "      <th>3</th>\n",
       "      <td>119240</td>\n",
       "      <td>VirginTrains</td>\n",
       "      <td>False</td>\n",
       "      <td>Tue Oct 10 15:16:08 +0000 2017</td>\n",
       "      <td>@105836 LiveChat is online at the moment - htt...</td>\n",
       "      <td>119241</td>\n",
       "      <td>119242.0</td>\n",
       "      <td>livechatonlinmomentcontactoptionleavmessagrequ...</td>\n",
       "    </tr>\n",
       "    <tr>\n",
       "      <th>4</th>\n",
       "      <td>119241</td>\n",
       "      <td>105836</td>\n",
       "      <td>True</td>\n",
       "      <td>Tue Oct 10 15:17:21 +0000 2017</td>\n",
       "      <td>@VirginTrains see attached error message. I've...</td>\n",
       "      <td>119243</td>\n",
       "      <td>119240.0</td>\n",
       "      <td>seeattacherrormessage.'vetrileavvoicemailsever...</td>\n",
       "    </tr>\n",
       "    <tr>\n",
       "      <th>...</th>\n",
       "      <td>...</td>\n",
       "      <td>...</td>\n",
       "      <td>...</td>\n",
       "      <td>...</td>\n",
       "      <td>...</td>\n",
       "      <td>...</td>\n",
       "      <td>...</td>\n",
       "      <td>...</td>\n",
       "    </tr>\n",
       "    <tr>\n",
       "      <th>88</th>\n",
       "      <td>119330</td>\n",
       "      <td>105859</td>\n",
       "      <td>True</td>\n",
       "      <td>Wed Oct 11 13:50:42 +0000 2017</td>\n",
       "      <td>@105860 I wish Amazon had an option of where I...</td>\n",
       "      <td>119329</td>\n",
       "      <td>119331.0</td>\n",
       "      <td>wishamazonoptiongetshipupstoreavoidlotstruggl</td>\n",
       "    </tr>\n",
       "    <tr>\n",
       "      <th>89</th>\n",
       "      <td>119331</td>\n",
       "      <td>105860</td>\n",
       "      <td>True</td>\n",
       "      <td>Wed Oct 11 13:47:14 +0000 2017</td>\n",
       "      <td>They reschedule my shit for tomorrow https://t...</td>\n",
       "      <td>119330</td>\n",
       "      <td>NaN</td>\n",
       "      <td>reschedulshittomorrow</td>\n",
       "    </tr>\n",
       "    <tr>\n",
       "      <th>90</th>\n",
       "      <td>119332</td>\n",
       "      <td>Tesco</td>\n",
       "      <td>False</td>\n",
       "      <td>Wed Oct 11 13:34:06 +0000 2017</td>\n",
       "      <td>@105861 Hey Sara, sorry to hear of the issues ...</td>\n",
       "      <td>119333</td>\n",
       "      <td>119334.0</td>\n",
       "      <td>heysarasorrihearissuask'slayspeedwebsitrespond...</td>\n",
       "    </tr>\n",
       "    <tr>\n",
       "      <th>91</th>\n",
       "      <td>119333</td>\n",
       "      <td>105861</td>\n",
       "      <td>True</td>\n",
       "      <td>Wed Oct 11 14:05:18 +0000 2017</td>\n",
       "      <td>@Tesco bit of both - finding the layout cumber...</td>\n",
       "      <td>119,335,119,336</td>\n",
       "      <td>119332.0</td>\n",
       "      <td>bitfindlayoutcumbersomremovitemfavegethugeslow...</td>\n",
       "    </tr>\n",
       "    <tr>\n",
       "      <th>92</th>\n",
       "      <td>119335</td>\n",
       "      <td>Tesco</td>\n",
       "      <td>False</td>\n",
       "      <td>Wed Oct 11 15:38:07 +0000 2017</td>\n",
       "      <td>@105861 If that doesn't help please DM your fu...</td>\n",
       "      <td>NaN</td>\n",
       "      <td>119333.0</td>\n",
       "      <td>n'thelppleadmfullnameaddressemailincludbrowser...</td>\n",
       "    </tr>\n",
       "  </tbody>\n",
       "</table>\n",
       "<p>93 rows × 8 columns</p>\n",
       "</div>"
      ],
      "text/plain": [
       "    tweet_id     author_id  inbound                      created_at  \\\n",
       "0     119237        105834     True  Wed Oct 11 06:55:44 +0000 2017   \n",
       "1     119238  ChaseSupport    False  Wed Oct 11 13:25:49 +0000 2017   \n",
       "2     119239        105835     True  Wed Oct 11 13:00:09 +0000 2017   \n",
       "3     119240  VirginTrains    False  Tue Oct 10 15:16:08 +0000 2017   \n",
       "4     119241        105836     True  Tue Oct 10 15:17:21 +0000 2017   \n",
       "..       ...           ...      ...                             ...   \n",
       "88    119330        105859     True  Wed Oct 11 13:50:42 +0000 2017   \n",
       "89    119331        105860     True  Wed Oct 11 13:47:14 +0000 2017   \n",
       "90    119332         Tesco    False  Wed Oct 11 13:34:06 +0000 2017   \n",
       "91    119333        105861     True  Wed Oct 11 14:05:18 +0000 2017   \n",
       "92    119335         Tesco    False  Wed Oct 11 15:38:07 +0000 2017   \n",
       "\n",
       "                                                 text response_tweet_id  \\\n",
       "0   @AppleSupport causing the reply to be disregar...            119236   \n",
       "1   @105835 Your business means a lot to us. Pleas...               NaN   \n",
       "2   @76328 I really hope you all change but I'm su...            119238   \n",
       "3   @105836 LiveChat is online at the moment - htt...            119241   \n",
       "4   @VirginTrains see attached error message. I've...            119243   \n",
       "..                                                ...               ...   \n",
       "88  @105860 I wish Amazon had an option of where I...            119329   \n",
       "89  They reschedule my shit for tomorrow https://t...            119330   \n",
       "90  @105861 Hey Sara, sorry to hear of the issues ...            119333   \n",
       "91  @Tesco bit of both - finding the layout cumber...   119,335,119,336   \n",
       "92  @105861 If that doesn't help please DM your fu...               NaN   \n",
       "\n",
       "    in_response_to_tweet_id                                            Cleaned  \n",
       "0                       NaN        causreplidisregardtapnotifkeyboardopened😡😡😡  \n",
       "1                  119239.0  busimeanlotus.pleadmnamezipcodeadditdetailconc...  \n",
       "2                       NaN                      reallihopechang'msurewon'tn't  \n",
       "3                  119242.0  livechatonlinmomentcontactoptionleavmessagrequ...  \n",
       "4                  119240.0  seeattacherrormessage.'vetrileavvoicemailsever...  \n",
       "..                      ...                                                ...  \n",
       "88                 119331.0      wishamazonoptiongetshipupstoreavoidlotstruggl  \n",
       "89                      NaN                              reschedulshittomorrow  \n",
       "90                 119334.0  heysarasorrihearissuask'slayspeedwebsitrespond...  \n",
       "91                 119332.0  bitfindlayoutcumbersomremovitemfavegethugeslow...  \n",
       "92                 119333.0  n'thelppleadmfullnameaddressemailincludbrowser...  \n",
       "\n",
       "[93 rows x 8 columns]"
      ]
     },
     "execution_count": 23,
     "metadata": {},
     "output_type": "execute_result"
    }
   ],
   "source": [
    "source_df"
   ]
  },
  {
   "cell_type": "code",
   "execution_count": 24,
   "id": "33c59e94-963f-4674-ab0d-2908523df355",
   "metadata": {},
   "outputs": [],
   "source": [
    "source_df.drop(['text'], axis = 1, inplace = True)"
   ]
  },
  {
   "cell_type": "code",
   "execution_count": 25,
   "id": "3617ff43-6cd9-404c-834a-4e558d8bdd65",
   "metadata": {},
   "outputs": [
    {
     "data": {
      "text/html": [
       "<div>\n",
       "<style scoped>\n",
       "    .dataframe tbody tr th:only-of-type {\n",
       "        vertical-align: middle;\n",
       "    }\n",
       "\n",
       "    .dataframe tbody tr th {\n",
       "        vertical-align: top;\n",
       "    }\n",
       "\n",
       "    .dataframe thead th {\n",
       "        text-align: right;\n",
       "    }\n",
       "</style>\n",
       "<table border=\"1\" class=\"dataframe\">\n",
       "  <thead>\n",
       "    <tr style=\"text-align: right;\">\n",
       "      <th></th>\n",
       "      <th>tweet_id</th>\n",
       "      <th>author_id</th>\n",
       "      <th>inbound</th>\n",
       "      <th>created_at</th>\n",
       "      <th>response_tweet_id</th>\n",
       "      <th>in_response_to_tweet_id</th>\n",
       "      <th>Cleaned</th>\n",
       "    </tr>\n",
       "  </thead>\n",
       "  <tbody>\n",
       "    <tr>\n",
       "      <th>0</th>\n",
       "      <td>119237</td>\n",
       "      <td>105834</td>\n",
       "      <td>True</td>\n",
       "      <td>Wed Oct 11 06:55:44 +0000 2017</td>\n",
       "      <td>119236</td>\n",
       "      <td>NaN</td>\n",
       "      <td>causreplidisregardtapnotifkeyboardopened😡😡😡</td>\n",
       "    </tr>\n",
       "    <tr>\n",
       "      <th>1</th>\n",
       "      <td>119238</td>\n",
       "      <td>ChaseSupport</td>\n",
       "      <td>False</td>\n",
       "      <td>Wed Oct 11 13:25:49 +0000 2017</td>\n",
       "      <td>NaN</td>\n",
       "      <td>119239.0</td>\n",
       "      <td>busimeanlotus.pleadmnamezipcodeadditdetailconc...</td>\n",
       "    </tr>\n",
       "    <tr>\n",
       "      <th>2</th>\n",
       "      <td>119239</td>\n",
       "      <td>105835</td>\n",
       "      <td>True</td>\n",
       "      <td>Wed Oct 11 13:00:09 +0000 2017</td>\n",
       "      <td>119238</td>\n",
       "      <td>NaN</td>\n",
       "      <td>reallihopechang'msurewon'tn't</td>\n",
       "    </tr>\n",
       "    <tr>\n",
       "      <th>3</th>\n",
       "      <td>119240</td>\n",
       "      <td>VirginTrains</td>\n",
       "      <td>False</td>\n",
       "      <td>Tue Oct 10 15:16:08 +0000 2017</td>\n",
       "      <td>119241</td>\n",
       "      <td>119242.0</td>\n",
       "      <td>livechatonlinmomentcontactoptionleavmessagrequ...</td>\n",
       "    </tr>\n",
       "    <tr>\n",
       "      <th>4</th>\n",
       "      <td>119241</td>\n",
       "      <td>105836</td>\n",
       "      <td>True</td>\n",
       "      <td>Tue Oct 10 15:17:21 +0000 2017</td>\n",
       "      <td>119243</td>\n",
       "      <td>119240.0</td>\n",
       "      <td>seeattacherrormessage.'vetrileavvoicemailsever...</td>\n",
       "    </tr>\n",
       "    <tr>\n",
       "      <th>...</th>\n",
       "      <td>...</td>\n",
       "      <td>...</td>\n",
       "      <td>...</td>\n",
       "      <td>...</td>\n",
       "      <td>...</td>\n",
       "      <td>...</td>\n",
       "      <td>...</td>\n",
       "    </tr>\n",
       "    <tr>\n",
       "      <th>88</th>\n",
       "      <td>119330</td>\n",
       "      <td>105859</td>\n",
       "      <td>True</td>\n",
       "      <td>Wed Oct 11 13:50:42 +0000 2017</td>\n",
       "      <td>119329</td>\n",
       "      <td>119331.0</td>\n",
       "      <td>wishamazonoptiongetshipupstoreavoidlotstruggl</td>\n",
       "    </tr>\n",
       "    <tr>\n",
       "      <th>89</th>\n",
       "      <td>119331</td>\n",
       "      <td>105860</td>\n",
       "      <td>True</td>\n",
       "      <td>Wed Oct 11 13:47:14 +0000 2017</td>\n",
       "      <td>119330</td>\n",
       "      <td>NaN</td>\n",
       "      <td>reschedulshittomorrow</td>\n",
       "    </tr>\n",
       "    <tr>\n",
       "      <th>90</th>\n",
       "      <td>119332</td>\n",
       "      <td>Tesco</td>\n",
       "      <td>False</td>\n",
       "      <td>Wed Oct 11 13:34:06 +0000 2017</td>\n",
       "      <td>119333</td>\n",
       "      <td>119334.0</td>\n",
       "      <td>heysarasorrihearissuask'slayspeedwebsitrespond...</td>\n",
       "    </tr>\n",
       "    <tr>\n",
       "      <th>91</th>\n",
       "      <td>119333</td>\n",
       "      <td>105861</td>\n",
       "      <td>True</td>\n",
       "      <td>Wed Oct 11 14:05:18 +0000 2017</td>\n",
       "      <td>119,335,119,336</td>\n",
       "      <td>119332.0</td>\n",
       "      <td>bitfindlayoutcumbersomremovitemfavegethugeslow...</td>\n",
       "    </tr>\n",
       "    <tr>\n",
       "      <th>92</th>\n",
       "      <td>119335</td>\n",
       "      <td>Tesco</td>\n",
       "      <td>False</td>\n",
       "      <td>Wed Oct 11 15:38:07 +0000 2017</td>\n",
       "      <td>NaN</td>\n",
       "      <td>119333.0</td>\n",
       "      <td>n'thelppleadmfullnameaddressemailincludbrowser...</td>\n",
       "    </tr>\n",
       "  </tbody>\n",
       "</table>\n",
       "<p>93 rows × 7 columns</p>\n",
       "</div>"
      ],
      "text/plain": [
       "    tweet_id     author_id  inbound                      created_at  \\\n",
       "0     119237        105834     True  Wed Oct 11 06:55:44 +0000 2017   \n",
       "1     119238  ChaseSupport    False  Wed Oct 11 13:25:49 +0000 2017   \n",
       "2     119239        105835     True  Wed Oct 11 13:00:09 +0000 2017   \n",
       "3     119240  VirginTrains    False  Tue Oct 10 15:16:08 +0000 2017   \n",
       "4     119241        105836     True  Tue Oct 10 15:17:21 +0000 2017   \n",
       "..       ...           ...      ...                             ...   \n",
       "88    119330        105859     True  Wed Oct 11 13:50:42 +0000 2017   \n",
       "89    119331        105860     True  Wed Oct 11 13:47:14 +0000 2017   \n",
       "90    119332         Tesco    False  Wed Oct 11 13:34:06 +0000 2017   \n",
       "91    119333        105861     True  Wed Oct 11 14:05:18 +0000 2017   \n",
       "92    119335         Tesco    False  Wed Oct 11 15:38:07 +0000 2017   \n",
       "\n",
       "   response_tweet_id  in_response_to_tweet_id  \\\n",
       "0             119236                      NaN   \n",
       "1                NaN                 119239.0   \n",
       "2             119238                      NaN   \n",
       "3             119241                 119242.0   \n",
       "4             119243                 119240.0   \n",
       "..               ...                      ...   \n",
       "88            119329                 119331.0   \n",
       "89            119330                      NaN   \n",
       "90            119333                 119334.0   \n",
       "91   119,335,119,336                 119332.0   \n",
       "92               NaN                 119333.0   \n",
       "\n",
       "                                              Cleaned  \n",
       "0         causreplidisregardtapnotifkeyboardopened😡😡😡  \n",
       "1   busimeanlotus.pleadmnamezipcodeadditdetailconc...  \n",
       "2                       reallihopechang'msurewon'tn't  \n",
       "3   livechatonlinmomentcontactoptionleavmessagrequ...  \n",
       "4   seeattacherrormessage.'vetrileavvoicemailsever...  \n",
       "..                                                ...  \n",
       "88      wishamazonoptiongetshipupstoreavoidlotstruggl  \n",
       "89                              reschedulshittomorrow  \n",
       "90  heysarasorrihearissuask'slayspeedwebsitrespond...  \n",
       "91  bitfindlayoutcumbersomremovitemfavegethugeslow...  \n",
       "92  n'thelppleadmfullnameaddressemailincludbrowser...  \n",
       "\n",
       "[93 rows x 7 columns]"
      ]
     },
     "execution_count": 25,
     "metadata": {},
     "output_type": "execute_result"
    }
   ],
   "source": [
    "source_df"
   ]
  },
  {
   "cell_type": "code",
   "execution_count": null,
   "id": "744a2c72-c8c9-484d-80f7-66e44c5e6a59",
   "metadata": {},
   "outputs": [],
   "source": []
  }
 ],
 "metadata": {
  "kernelspec": {
   "display_name": "Python [conda env:base] *",
   "language": "python",
   "name": "conda-base-py"
  },
  "language_info": {
   "codemirror_mode": {
    "name": "ipython",
    "version": 3
   },
   "file_extension": ".py",
   "mimetype": "text/x-python",
   "name": "python",
   "nbconvert_exporter": "python",
   "pygments_lexer": "ipython3",
   "version": "3.13.5"
  }
 },
 "nbformat": 4,
 "nbformat_minor": 5
}
