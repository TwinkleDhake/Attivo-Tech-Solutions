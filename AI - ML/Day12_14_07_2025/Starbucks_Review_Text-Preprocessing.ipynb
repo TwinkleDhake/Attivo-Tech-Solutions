{
 "cells": [
  {
   "cell_type": "code",
   "execution_count": 1,
   "id": "e1c74de5-c74b-4c33-aa21-732a18f845e2",
   "metadata": {},
   "outputs": [],
   "source": [
    "import pandas as pd"
   ]
  },
  {
   "cell_type": "code",
   "execution_count": 2,
   "id": "ab126bdc-defd-4100-a6c1-1808f864bac7",
   "metadata": {},
   "outputs": [],
   "source": [
    "source_df = pd.read_csv(r'D:\\Attivo Trainning\\Technical Videos\\AI_ML\\Jupyter Notebook Daily Practice\\Day12_14_07_2025\\Starbucks Review\\reviews_data.csv')"
   ]
  },
  {
   "cell_type": "raw",
   "id": "190b3ad4-26c5-4f8a-9489-dd9d0eef83b0",
   "metadata": {},
   "source": [
    "source_df.head()"
   ]
  },
  {
   "cell_type": "code",
   "execution_count": 3,
   "id": "6d7a0de0-7258-4565-813c-f2481a773983",
   "metadata": {},
   "outputs": [
    {
     "data": {
      "text/plain": [
       "(850, 6)"
      ]
     },
     "execution_count": 3,
     "metadata": {},
     "output_type": "execute_result"
    }
   ],
   "source": [
    "source_df.shape"
   ]
  },
  {
   "cell_type": "code",
   "execution_count": 4,
   "id": "1091876d-9266-442d-9961-76d560298f38",
   "metadata": {},
   "outputs": [],
   "source": [
    "df = source_df['Review']"
   ]
  },
  {
   "cell_type": "code",
   "execution_count": 5,
   "id": "e01249df-edcc-4aca-9748-87f7847d9b51",
   "metadata": {},
   "outputs": [
    {
     "data": {
      "text/plain": [
       "0    Amber and LaDonna at the Starbucks on Southwes...\n",
       "1    ** at the Starbucks by the fire station on 436...\n",
       "2    I just wanted to go out of my way to recognize...\n",
       "3    Me and my friend were at Starbucks and my card...\n",
       "4    I’m on this kick of drinking 5 cups of warm wa...\n",
       "Name: Review, dtype: object"
      ]
     },
     "execution_count": 5,
     "metadata": {},
     "output_type": "execute_result"
    }
   ],
   "source": [
    "df.head()"
   ]
  },
  {
   "cell_type": "code",
   "execution_count": 6,
   "id": "b48bf28d-5feb-4246-9e6d-1512ef652d6c",
   "metadata": {},
   "outputs": [],
   "source": [
    "import string"
   ]
  },
  {
   "cell_type": "code",
   "execution_count": 7,
   "id": "17888ac9-daec-4cbd-b013-15a7dceaa1be",
   "metadata": {},
   "outputs": [],
   "source": [
    "# Removal of Lower strings\n",
    "lwr_cs = df.str.lower()"
   ]
  },
  {
   "cell_type": "code",
   "execution_count": 8,
   "id": "eb00723d-6e23-4396-9cf2-dbdc481f9702",
   "metadata": {},
   "outputs": [
    {
     "data": {
      "text/plain": [
       "0    amber and ladonna at the starbucks on southwes...\n",
       "1    ** at the starbucks by the fire station on 436...\n",
       "2    i just wanted to go out of my way to recognize...\n",
       "3    me and my friend were at starbucks and my card...\n",
       "4    i’m on this kick of drinking 5 cups of warm wa...\n",
       "Name: Review, dtype: object"
      ]
     },
     "execution_count": 8,
     "metadata": {},
     "output_type": "execute_result"
    }
   ],
   "source": [
    "lwr_cs.head()"
   ]
  },
  {
   "cell_type": "code",
   "execution_count": 9,
   "id": "daa3cb7b-231f-4023-9325-73896bf5bce8",
   "metadata": {},
   "outputs": [],
   "source": [
    "from nltk.tokenize import word_tokenize\n",
    "from nltk.corpus import stopwords\n",
    "from nltk.stem import PorterStemmer, WordNetLemmatizer\n",
    "import nltk"
   ]
  },
  {
   "cell_type": "code",
   "execution_count": 10,
   "id": "1f2dd442-959a-469c-a5f4-59d3cd8c28b7",
   "metadata": {},
   "outputs": [
    {
     "name": "stderr",
     "output_type": "stream",
     "text": [
      "[nltk_data] Downloading package punkt to\n",
      "[nltk_data]     C:\\Users\\Boss\\AppData\\Roaming\\nltk_data...\n",
      "[nltk_data]   Package punkt is already up-to-date!\n",
      "[nltk_data] Downloading package stopwords to\n",
      "[nltk_data]     C:\\Users\\Boss\\AppData\\Roaming\\nltk_data...\n",
      "[nltk_data]   Package stopwords is already up-to-date!\n",
      "[nltk_data] Downloading package wordnet to\n",
      "[nltk_data]     C:\\Users\\Boss\\AppData\\Roaming\\nltk_data...\n",
      "[nltk_data]   Package wordnet is already up-to-date!\n"
     ]
    },
    {
     "data": {
      "text/plain": [
       "True"
      ]
     },
     "execution_count": 10,
     "metadata": {},
     "output_type": "execute_result"
    }
   ],
   "source": [
    "nltk.download('punkt')\n",
    "nltk.download('stopwords')\n",
    "nltk.download('wordnet')"
   ]
  },
  {
   "cell_type": "code",
   "execution_count": 11,
   "id": "77f1747b-bd63-4593-9bc4-23b910357525",
   "metadata": {},
   "outputs": [],
   "source": [
    "import re"
   ]
  },
  {
   "cell_type": "code",
   "execution_count": 12,
   "id": "6b3fb93d-251c-4863-8a89-6d43ac052585",
   "metadata": {},
   "outputs": [
    {
     "data": {
      "text/plain": [
       "0      amber and ladonna at the starbucks on southwes...\n",
       "1      ** at the starbucks by the fire station on 436...\n",
       "2      i just wanted to go out of my way to recognize...\n",
       "3      me and my friend were at starbucks and my card...\n",
       "4      i’m on this kick of drinking 5 cups of warm wa...\n",
       "                             ...                        \n",
       "845    i ordered two venti frappacino's without whipp...\n",
       "846                                       no review text\n",
       "847    demanded tips from me, then made me wait until...\n",
       "848                                       no review text\n",
       "849                                       no review text\n",
       "Name: Review, Length: 850, dtype: object"
      ]
     },
     "execution_count": 12,
     "metadata": {},
     "output_type": "execute_result"
    }
   ],
   "source": [
    "# Removal of @mentions\n",
    "no_mentions = lwr_cs.apply(lambda x: re.sub(r'@\\w+','',x))\n",
    "no_mentions"
   ]
  },
  {
   "cell_type": "code",
   "execution_count": 13,
   "id": "563823a3-ccbd-4f3e-8038-bd0bfb9c172b",
   "metadata": {},
   "outputs": [
    {
     "data": {
      "text/plain": [
       "0      amber and ladonna at the starbucks on southwes...\n",
       "1      ** at the starbucks by the fire station on 436...\n",
       "2      i just wanted to go out of my way to recognize...\n",
       "3      me and my friend were at starbucks and my card...\n",
       "4      i’m on this kick of drinking 5 cups of warm wa...\n",
       "                             ...                        \n",
       "845    i ordered two venti frappacino's without whipp...\n",
       "846                                       no review text\n",
       "847    demanded tips from me, then made me wait until...\n",
       "848                                       no review text\n",
       "849                                       no review text\n",
       "Name: Review, Length: 850, dtype: object"
      ]
     },
     "execution_count": 13,
     "metadata": {},
     "output_type": "execute_result"
    }
   ],
   "source": [
    "# Removal of URLs\n",
    "no_url = no_mentions.apply(lambda x: re.sub(r'https?://\\S+|www\\.\\S+','',x))\n",
    "no_url"
   ]
  },
  {
   "cell_type": "code",
   "execution_count": 14,
   "id": "ac8af318-1be7-4aaf-99a8-bd3fe09329d6",
   "metadata": {},
   "outputs": [
    {
     "data": {
      "text/plain": [
       "0      amber and ladonna at the starbucks on southwes...\n",
       "1      ** at the starbucks by the fire station on 436...\n",
       "2      i just wanted to go out of my way to recognize...\n",
       "3      me and my friend were at starbucks and my card...\n",
       "4      i’m on this kick of drinking 5 cups of warm wa...\n",
       "                             ...                        \n",
       "845    i ordered two venti frappacino's without whipp...\n",
       "846                                       no review text\n",
       "847    demanded tips from me, then made me wait until...\n",
       "848                                       no review text\n",
       "849                                       no review text\n",
       "Name: Review, Length: 850, dtype: object"
      ]
     },
     "execution_count": 14,
     "metadata": {},
     "output_type": "execute_result"
    }
   ],
   "source": [
    "# Removal of Hashtags\n",
    "no_hashtags = no_url.apply(lambda x: re.sub(r'#\\S+','',x))\n",
    "no_hashtags"
   ]
  },
  {
   "cell_type": "code",
   "execution_count": 15,
   "id": "211657b2-9bb6-405d-b009-dbd479f71975",
   "metadata": {},
   "outputs": [
    {
     "data": {
      "text/plain": [
       "0      amber and ladonna at the starbucks on southwes...\n",
       "1      ** at the starbucks by the fire station on  in...\n",
       "2      i just wanted to go out of my way to recognize...\n",
       "3      me and my friend were at starbucks and my card...\n",
       "4      i’m on this kick of drinking  cups of warm wat...\n",
       "                             ...                        \n",
       "845    i ordered two venti frappacino's without whipp...\n",
       "846                                       no review text\n",
       "847    demanded tips from me, then made me wait until...\n",
       "848                                       no review text\n",
       "849                                       no review text\n",
       "Name: Review, Length: 850, dtype: object"
      ]
     },
     "execution_count": 15,
     "metadata": {},
     "output_type": "execute_result"
    }
   ],
   "source": [
    "# Removal of Numbers\n",
    "no_numbers = no_hashtags.apply(lambda x: re.sub(r'\\d+','',x))\n",
    "no_numbers"
   ]
  },
  {
   "cell_type": "code",
   "execution_count": 16,
   "id": "6a12f122-f25c-4cdd-bf67-a65515f03ae4",
   "metadata": {},
   "outputs": [
    {
     "data": {
      "text/plain": [
       "\"a,about,above,after,again,against,ain,all,am,an,and,any,are,aren,aren't,as,at,be,because,been,before,being,below,between,both,but,by,can,couldn,couldn't,d,did,didn,didn't,do,does,doesn,doesn't,doing,don,don't,down,during,each,few,for,from,further,had,hadn,hadn't,has,hasn,hasn't,have,haven,haven't,having,he,he'd,he'll,her,here,hers,herself,he's,him,himself,his,how,i,i'd,if,i'll,i'm,in,into,is,isn,isn't,it,it'd,it'll,it's,its,itself,i've,just,ll,m,ma,me,mightn,mightn't,more,most,mustn,mustn't,my,myself,needn,needn't,no,nor,not,now,o,of,off,on,once,only,or,other,our,ours,ourselves,out,over,own,re,s,same,shan,shan't,she,she'd,she'll,she's,should,shouldn,shouldn't,should've,so,some,such,t,than,that,that'll,the,their,theirs,them,themselves,then,there,these,they,they'd,they'll,they're,they've,this,those,through,to,too,under,until,up,ve,very,was,wasn,wasn't,we,we'd,we'll,we're,were,weren,weren't,we've,what,when,where,which,while,who,whom,why,will,with,won,won't,wouldn,wouldn't,y,you,you'd,you'll,your,you're,yours,yourself,yourselves,you've\""
      ]
     },
     "execution_count": 16,
     "metadata": {},
     "output_type": "execute_result"
    }
   ],
   "source": [
    "','.join(stopwords.words('English'))"
   ]
  },
  {
   "cell_type": "code",
   "execution_count": 17,
   "id": "fb92c861-44a4-435b-9bff-4e6e0fe2a0b2",
   "metadata": {},
   "outputs": [
    {
     "name": "stdout",
     "output_type": "stream",
     "text": [
      "0      [amber, and, ladonna, at, the, starbucks, on, ...\n",
      "1      [*, *, at, the, starbucks, by, the, fire, stat...\n",
      "2      [i, just, wanted, to, go, out, of, my, way, to...\n",
      "3      [me, and, my, friend, were, at, starbucks, and...\n",
      "4      [i, ’, m, on, this, kick, of, drinking, cups, ...\n",
      "                             ...                        \n",
      "845    [i, ordered, two, venti, frappacino, 's, witho...\n",
      "846                                   [no, review, text]\n",
      "847    [demanded, tips, from, me, ,, then, made, me, ...\n",
      "848                                   [no, review, text]\n",
      "849                                   [no, review, text]\n",
      "Name: Review, Length: 850, dtype: object\n"
     ]
    }
   ],
   "source": [
    "tokenized = no_numbers.apply(lambda x: word_tokenize(x, preserve_line=True))\n",
    "print(tokenized)"
   ]
  },
  {
   "cell_type": "code",
   "execution_count": 18,
   "id": "9cb7bc31-58a9-435d-8b19-e00db5315f23",
   "metadata": {},
   "outputs": [
    {
     "name": "stdout",
     "output_type": "stream",
     "text": [
      "0      [amber, ladonna, starbucks, southwest, parkway...\n",
      "1      [starbucks, fire, station, altamonte, springs,...\n",
      "2      [wanted, go, way, recognize, starbucks, employ...\n",
      "3      [friend, starbucks, card, work., thankful, wor...\n",
      "4      [kick, drinking, cups, warm, water., work, ins...\n",
      "                             ...                        \n",
      "845    [ordered, two, venti, frappacino, 's, without,...\n",
      "846                                       [review, text]\n",
      "847    [demanded, tips, made, wait, coffees, cold, me...\n",
      "848                                       [review, text]\n",
      "849                                       [review, text]\n",
      "Name: Review, Length: 850, dtype: object\n"
     ]
    }
   ],
   "source": [
    "# stop_word Removal\n",
    "stop_words = set(stopwords.words('english'))\n",
    "filtered_tokens = tokenized.apply(lambda tokens:[token for token in tokens if token not in stop_words and len(token)>1])    \n",
    "print(filtered_tokens)"
   ]
  },
  {
   "cell_type": "code",
   "execution_count": 19,
   "id": "4352ecf6-d873-4efc-8b6d-38742f6835fe",
   "metadata": {},
   "outputs": [
    {
     "data": {
      "text/plain": [
       "0      [amber, ladonna, starbuck, southwest, parkway,...\n",
       "1      [starbuck, fire, station, altamont, spring, fl...\n",
       "2      [want, go, way, recogn, starbuck, employe, bil...\n",
       "3      [friend, starbuck, card, work., thank, worker,...\n",
       "4      [kick, drink, cup, warm, water., work, instaca...\n",
       "                             ...                        \n",
       "845    [order, two, venti, frappacino, 's, without, w...\n",
       "846                                       [review, text]\n",
       "847    [demand, tip, made, wait, coffe, cold, melt, y...\n",
       "848                                       [review, text]\n",
       "849                                       [review, text]\n",
       "Name: Review, Length: 850, dtype: object"
      ]
     },
     "execution_count": 19,
     "metadata": {},
     "output_type": "execute_result"
    }
   ],
   "source": [
    "# Stemming\n",
    "stemmer = PorterStemmer()\n",
    "stemmed_tokens = filtered_tokens.apply(lambda tokens: [stemmer.stem(token) for token in tokens])\n",
    "stemmed_tokens"
   ]
  },
  {
   "cell_type": "code",
   "execution_count": 20,
   "id": "e37ae24b-33b3-41c5-a53b-7c9f1e038615",
   "metadata": {},
   "outputs": [
    {
     "data": {
      "text/plain": [
       "0      [amber, ladonna, starbuck, southwest, parkway,...\n",
       "1      [starbuck, fire, station, altamont, spring, fl...\n",
       "2      [want, go, way, recogn, starbuck, employe, bil...\n",
       "3      [friend, starbuck, card, work., thank, worker,...\n",
       "4      [kick, drink, cup, warm, water., work, instaca...\n",
       "                             ...                        \n",
       "845    [order, two, venti, frappacino, 's, without, w...\n",
       "846                                       [review, text]\n",
       "847    [demand, tip, made, wait, coffe, cold, melt, y...\n",
       "848                                       [review, text]\n",
       "849                                       [review, text]\n",
       "Name: Review, Length: 850, dtype: object"
      ]
     },
     "execution_count": 20,
     "metadata": {},
     "output_type": "execute_result"
    }
   ],
   "source": [
    "# Lemmatization\n",
    "lemmatizer = WordNetLemmatizer()\n",
    "lemmatized_tokens = stemmed_tokens.apply(lambda tokens: [lemmatizer.lemmatize(token) for token in tokens])\n",
    "lemmatized_tokens"
   ]
  },
  {
   "cell_type": "code",
   "execution_count": 21,
   "id": "660003ab-29ba-4077-93c8-71ddb99352f9",
   "metadata": {},
   "outputs": [],
   "source": [
    "final_cleaned_text = lemmatized_tokens.apply(lambda tokens: ''.join(tokens))"
   ]
  },
  {
   "cell_type": "code",
   "execution_count": 22,
   "id": "c20d136e-3b2d-4e6d-8d9a-275dd4750109",
   "metadata": {
    "scrolled": true
   },
   "outputs": [],
   "source": [
    "source_df['Cleaned'] = final_cleaned_text"
   ]
  },
  {
   "cell_type": "code",
   "execution_count": 23,
   "id": "d8f0d1a9-ceda-4b7f-afbd-9f9ecf894be2",
   "metadata": {},
   "outputs": [
    {
     "data": {
      "text/html": [
       "<div>\n",
       "<style scoped>\n",
       "    .dataframe tbody tr th:only-of-type {\n",
       "        vertical-align: middle;\n",
       "    }\n",
       "\n",
       "    .dataframe tbody tr th {\n",
       "        vertical-align: top;\n",
       "    }\n",
       "\n",
       "    .dataframe thead th {\n",
       "        text-align: right;\n",
       "    }\n",
       "</style>\n",
       "<table border=\"1\" class=\"dataframe\">\n",
       "  <thead>\n",
       "    <tr style=\"text-align: right;\">\n",
       "      <th></th>\n",
       "      <th>name</th>\n",
       "      <th>location</th>\n",
       "      <th>Date</th>\n",
       "      <th>Rating</th>\n",
       "      <th>Review</th>\n",
       "      <th>Image_Links</th>\n",
       "      <th>Cleaned</th>\n",
       "    </tr>\n",
       "  </thead>\n",
       "  <tbody>\n",
       "    <tr>\n",
       "      <th>0</th>\n",
       "      <td>Helen</td>\n",
       "      <td>Wichita Falls, TX</td>\n",
       "      <td>Reviewed Sept. 13, 2023</td>\n",
       "      <td>5.0</td>\n",
       "      <td>Amber and LaDonna at the Starbucks on Southwes...</td>\n",
       "      <td>['No Images']</td>\n",
       "      <td>amberladonnastarbucksouthwestparkwayalwaywarmw...</td>\n",
       "    </tr>\n",
       "    <tr>\n",
       "      <th>1</th>\n",
       "      <td>Courtney</td>\n",
       "      <td>Apopka, FL</td>\n",
       "      <td>Reviewed July 16, 2023</td>\n",
       "      <td>5.0</td>\n",
       "      <td>** at the Starbucks by the fire station on 436...</td>\n",
       "      <td>['No Images']</td>\n",
       "      <td>starbuckfirestationaltamontspringflmadedayfina...</td>\n",
       "    </tr>\n",
       "    <tr>\n",
       "      <th>2</th>\n",
       "      <td>Daynelle</td>\n",
       "      <td>Cranberry Twp, PA</td>\n",
       "      <td>Reviewed July 5, 2023</td>\n",
       "      <td>5.0</td>\n",
       "      <td>I just wanted to go out of my way to recognize...</td>\n",
       "      <td>['https://media.consumeraffairs.com/files/cach...</td>\n",
       "      <td>wantgowayrecognstarbuckemployebillifranklinpar...</td>\n",
       "    </tr>\n",
       "    <tr>\n",
       "      <th>3</th>\n",
       "      <td>Taylor</td>\n",
       "      <td>Seattle, WA</td>\n",
       "      <td>Reviewed May 26, 2023</td>\n",
       "      <td>5.0</td>\n",
       "      <td>Me and my friend were at Starbucks and my card...</td>\n",
       "      <td>['No Images']</td>\n",
       "      <td>friendstarbuckcardwork.thankworkerpaiddrinks.n...</td>\n",
       "    </tr>\n",
       "    <tr>\n",
       "      <th>4</th>\n",
       "      <td>Tenessa</td>\n",
       "      <td>Gresham, OR</td>\n",
       "      <td>Reviewed Jan. 22, 2023</td>\n",
       "      <td>5.0</td>\n",
       "      <td>I’m on this kick of drinking 5 cups of warm wa...</td>\n",
       "      <td>['https://media.consumeraffairs.com/files/cach...</td>\n",
       "      <td>kickdrinkcupwarmwater.workinstacartrighteveril...</td>\n",
       "    </tr>\n",
       "    <tr>\n",
       "      <th>...</th>\n",
       "      <td>...</td>\n",
       "      <td>...</td>\n",
       "      <td>...</td>\n",
       "      <td>...</td>\n",
       "      <td>...</td>\n",
       "      <td>...</td>\n",
       "      <td>...</td>\n",
       "    </tr>\n",
       "    <tr>\n",
       "      <th>845</th>\n",
       "      <td>Becky</td>\n",
       "      <td>Agoura Hills, CA</td>\n",
       "      <td>Reviewed July 13, 2006</td>\n",
       "      <td>NaN</td>\n",
       "      <td>I ordered two venti frappacino's without whipp...</td>\n",
       "      <td>['No Images']</td>\n",
       "      <td>ordertwoventifrappacino'swithoutwhipcreamdaugh...</td>\n",
       "    </tr>\n",
       "    <tr>\n",
       "      <th>846</th>\n",
       "      <td>Bob</td>\n",
       "      <td>Goodrich, MI</td>\n",
       "      <td>Reviewed Jan. 3, 2005</td>\n",
       "      <td>NaN</td>\n",
       "      <td>No Review Text</td>\n",
       "      <td>['No Images']</td>\n",
       "      <td>reviewtext</td>\n",
       "    </tr>\n",
       "    <tr>\n",
       "      <th>847</th>\n",
       "      <td>Erik</td>\n",
       "      <td>Valley Village, CA</td>\n",
       "      <td>Reviewed Nov. 5, 2004</td>\n",
       "      <td>NaN</td>\n",
       "      <td>DEMANDED TIPS FROM ME, THEN MADE ME WAIT UNTIL...</td>\n",
       "      <td>['No Images']</td>\n",
       "      <td>demandtipmadewaitcoffecoldmeltyetaddressproble...</td>\n",
       "    </tr>\n",
       "    <tr>\n",
       "      <th>848</th>\n",
       "      <td>Andrew</td>\n",
       "      <td>Fallbrook, CA</td>\n",
       "      <td>Reviewed Oct. 20, 2004</td>\n",
       "      <td>NaN</td>\n",
       "      <td>No Review Text</td>\n",
       "      <td>['No Images']</td>\n",
       "      <td>reviewtext</td>\n",
       "    </tr>\n",
       "    <tr>\n",
       "      <th>849</th>\n",
       "      <td>Christian</td>\n",
       "      <td>Ramsey, NJ</td>\n",
       "      <td>Reviewed July 19, 2000</td>\n",
       "      <td>NaN</td>\n",
       "      <td>No Review Text</td>\n",
       "      <td>['No Images']</td>\n",
       "      <td>reviewtext</td>\n",
       "    </tr>\n",
       "  </tbody>\n",
       "</table>\n",
       "<p>850 rows × 7 columns</p>\n",
       "</div>"
      ],
      "text/plain": [
       "          name            location                     Date  Rating  \\\n",
       "0        Helen   Wichita Falls, TX  Reviewed Sept. 13, 2023     5.0   \n",
       "1     Courtney          Apopka, FL   Reviewed July 16, 2023     5.0   \n",
       "2     Daynelle   Cranberry Twp, PA    Reviewed July 5, 2023     5.0   \n",
       "3       Taylor         Seattle, WA    Reviewed May 26, 2023     5.0   \n",
       "4      Tenessa         Gresham, OR   Reviewed Jan. 22, 2023     5.0   \n",
       "..         ...                 ...                      ...     ...   \n",
       "845      Becky    Agoura Hills, CA   Reviewed July 13, 2006     NaN   \n",
       "846        Bob        Goodrich, MI    Reviewed Jan. 3, 2005     NaN   \n",
       "847       Erik  Valley Village, CA    Reviewed Nov. 5, 2004     NaN   \n",
       "848     Andrew       Fallbrook, CA   Reviewed Oct. 20, 2004     NaN   \n",
       "849  Christian          Ramsey, NJ   Reviewed July 19, 2000     NaN   \n",
       "\n",
       "                                                Review  \\\n",
       "0    Amber and LaDonna at the Starbucks on Southwes...   \n",
       "1    ** at the Starbucks by the fire station on 436...   \n",
       "2    I just wanted to go out of my way to recognize...   \n",
       "3    Me and my friend were at Starbucks and my card...   \n",
       "4    I’m on this kick of drinking 5 cups of warm wa...   \n",
       "..                                                 ...   \n",
       "845  I ordered two venti frappacino's without whipp...   \n",
       "846                                     No Review Text   \n",
       "847  DEMANDED TIPS FROM ME, THEN MADE ME WAIT UNTIL...   \n",
       "848                                     No Review Text   \n",
       "849                                     No Review Text   \n",
       "\n",
       "                                           Image_Links  \\\n",
       "0                                        ['No Images']   \n",
       "1                                        ['No Images']   \n",
       "2    ['https://media.consumeraffairs.com/files/cach...   \n",
       "3                                        ['No Images']   \n",
       "4    ['https://media.consumeraffairs.com/files/cach...   \n",
       "..                                                 ...   \n",
       "845                                      ['No Images']   \n",
       "846                                      ['No Images']   \n",
       "847                                      ['No Images']   \n",
       "848                                      ['No Images']   \n",
       "849                                      ['No Images']   \n",
       "\n",
       "                                               Cleaned  \n",
       "0    amberladonnastarbucksouthwestparkwayalwaywarmw...  \n",
       "1    starbuckfirestationaltamontspringflmadedayfina...  \n",
       "2    wantgowayrecognstarbuckemployebillifranklinpar...  \n",
       "3    friendstarbuckcardwork.thankworkerpaiddrinks.n...  \n",
       "4    kickdrinkcupwarmwater.workinstacartrighteveril...  \n",
       "..                                                 ...  \n",
       "845  ordertwoventifrappacino'swithoutwhipcreamdaugh...  \n",
       "846                                         reviewtext  \n",
       "847  demandtipmadewaitcoffecoldmeltyetaddressproble...  \n",
       "848                                         reviewtext  \n",
       "849                                         reviewtext  \n",
       "\n",
       "[850 rows x 7 columns]"
      ]
     },
     "execution_count": 23,
     "metadata": {},
     "output_type": "execute_result"
    }
   ],
   "source": [
    "source_df"
   ]
  },
  {
   "cell_type": "code",
   "execution_count": 24,
   "id": "33c59e94-963f-4674-ab0d-2908523df355",
   "metadata": {},
   "outputs": [],
   "source": [
    "source_df.drop(['Review'], axis = 1, inplace = True)"
   ]
  },
  {
   "cell_type": "code",
   "execution_count": 25,
   "id": "3617ff43-6cd9-404c-834a-4e558d8bdd65",
   "metadata": {},
   "outputs": [
    {
     "data": {
      "text/html": [
       "<div>\n",
       "<style scoped>\n",
       "    .dataframe tbody tr th:only-of-type {\n",
       "        vertical-align: middle;\n",
       "    }\n",
       "\n",
       "    .dataframe tbody tr th {\n",
       "        vertical-align: top;\n",
       "    }\n",
       "\n",
       "    .dataframe thead th {\n",
       "        text-align: right;\n",
       "    }\n",
       "</style>\n",
       "<table border=\"1\" class=\"dataframe\">\n",
       "  <thead>\n",
       "    <tr style=\"text-align: right;\">\n",
       "      <th></th>\n",
       "      <th>name</th>\n",
       "      <th>location</th>\n",
       "      <th>Date</th>\n",
       "      <th>Rating</th>\n",
       "      <th>Image_Links</th>\n",
       "      <th>Cleaned</th>\n",
       "    </tr>\n",
       "  </thead>\n",
       "  <tbody>\n",
       "    <tr>\n",
       "      <th>0</th>\n",
       "      <td>Helen</td>\n",
       "      <td>Wichita Falls, TX</td>\n",
       "      <td>Reviewed Sept. 13, 2023</td>\n",
       "      <td>5.0</td>\n",
       "      <td>['No Images']</td>\n",
       "      <td>amberladonnastarbucksouthwestparkwayalwaywarmw...</td>\n",
       "    </tr>\n",
       "    <tr>\n",
       "      <th>1</th>\n",
       "      <td>Courtney</td>\n",
       "      <td>Apopka, FL</td>\n",
       "      <td>Reviewed July 16, 2023</td>\n",
       "      <td>5.0</td>\n",
       "      <td>['No Images']</td>\n",
       "      <td>starbuckfirestationaltamontspringflmadedayfina...</td>\n",
       "    </tr>\n",
       "    <tr>\n",
       "      <th>2</th>\n",
       "      <td>Daynelle</td>\n",
       "      <td>Cranberry Twp, PA</td>\n",
       "      <td>Reviewed July 5, 2023</td>\n",
       "      <td>5.0</td>\n",
       "      <td>['https://media.consumeraffairs.com/files/cach...</td>\n",
       "      <td>wantgowayrecognstarbuckemployebillifranklinpar...</td>\n",
       "    </tr>\n",
       "    <tr>\n",
       "      <th>3</th>\n",
       "      <td>Taylor</td>\n",
       "      <td>Seattle, WA</td>\n",
       "      <td>Reviewed May 26, 2023</td>\n",
       "      <td>5.0</td>\n",
       "      <td>['No Images']</td>\n",
       "      <td>friendstarbuckcardwork.thankworkerpaiddrinks.n...</td>\n",
       "    </tr>\n",
       "    <tr>\n",
       "      <th>4</th>\n",
       "      <td>Tenessa</td>\n",
       "      <td>Gresham, OR</td>\n",
       "      <td>Reviewed Jan. 22, 2023</td>\n",
       "      <td>5.0</td>\n",
       "      <td>['https://media.consumeraffairs.com/files/cach...</td>\n",
       "      <td>kickdrinkcupwarmwater.workinstacartrighteveril...</td>\n",
       "    </tr>\n",
       "    <tr>\n",
       "      <th>...</th>\n",
       "      <td>...</td>\n",
       "      <td>...</td>\n",
       "      <td>...</td>\n",
       "      <td>...</td>\n",
       "      <td>...</td>\n",
       "      <td>...</td>\n",
       "    </tr>\n",
       "    <tr>\n",
       "      <th>845</th>\n",
       "      <td>Becky</td>\n",
       "      <td>Agoura Hills, CA</td>\n",
       "      <td>Reviewed July 13, 2006</td>\n",
       "      <td>NaN</td>\n",
       "      <td>['No Images']</td>\n",
       "      <td>ordertwoventifrappacino'swithoutwhipcreamdaugh...</td>\n",
       "    </tr>\n",
       "    <tr>\n",
       "      <th>846</th>\n",
       "      <td>Bob</td>\n",
       "      <td>Goodrich, MI</td>\n",
       "      <td>Reviewed Jan. 3, 2005</td>\n",
       "      <td>NaN</td>\n",
       "      <td>['No Images']</td>\n",
       "      <td>reviewtext</td>\n",
       "    </tr>\n",
       "    <tr>\n",
       "      <th>847</th>\n",
       "      <td>Erik</td>\n",
       "      <td>Valley Village, CA</td>\n",
       "      <td>Reviewed Nov. 5, 2004</td>\n",
       "      <td>NaN</td>\n",
       "      <td>['No Images']</td>\n",
       "      <td>demandtipmadewaitcoffecoldmeltyetaddressproble...</td>\n",
       "    </tr>\n",
       "    <tr>\n",
       "      <th>848</th>\n",
       "      <td>Andrew</td>\n",
       "      <td>Fallbrook, CA</td>\n",
       "      <td>Reviewed Oct. 20, 2004</td>\n",
       "      <td>NaN</td>\n",
       "      <td>['No Images']</td>\n",
       "      <td>reviewtext</td>\n",
       "    </tr>\n",
       "    <tr>\n",
       "      <th>849</th>\n",
       "      <td>Christian</td>\n",
       "      <td>Ramsey, NJ</td>\n",
       "      <td>Reviewed July 19, 2000</td>\n",
       "      <td>NaN</td>\n",
       "      <td>['No Images']</td>\n",
       "      <td>reviewtext</td>\n",
       "    </tr>\n",
       "  </tbody>\n",
       "</table>\n",
       "<p>850 rows × 6 columns</p>\n",
       "</div>"
      ],
      "text/plain": [
       "          name            location                     Date  Rating  \\\n",
       "0        Helen   Wichita Falls, TX  Reviewed Sept. 13, 2023     5.0   \n",
       "1     Courtney          Apopka, FL   Reviewed July 16, 2023     5.0   \n",
       "2     Daynelle   Cranberry Twp, PA    Reviewed July 5, 2023     5.0   \n",
       "3       Taylor         Seattle, WA    Reviewed May 26, 2023     5.0   \n",
       "4      Tenessa         Gresham, OR   Reviewed Jan. 22, 2023     5.0   \n",
       "..         ...                 ...                      ...     ...   \n",
       "845      Becky    Agoura Hills, CA   Reviewed July 13, 2006     NaN   \n",
       "846        Bob        Goodrich, MI    Reviewed Jan. 3, 2005     NaN   \n",
       "847       Erik  Valley Village, CA    Reviewed Nov. 5, 2004     NaN   \n",
       "848     Andrew       Fallbrook, CA   Reviewed Oct. 20, 2004     NaN   \n",
       "849  Christian          Ramsey, NJ   Reviewed July 19, 2000     NaN   \n",
       "\n",
       "                                           Image_Links  \\\n",
       "0                                        ['No Images']   \n",
       "1                                        ['No Images']   \n",
       "2    ['https://media.consumeraffairs.com/files/cach...   \n",
       "3                                        ['No Images']   \n",
       "4    ['https://media.consumeraffairs.com/files/cach...   \n",
       "..                                                 ...   \n",
       "845                                      ['No Images']   \n",
       "846                                      ['No Images']   \n",
       "847                                      ['No Images']   \n",
       "848                                      ['No Images']   \n",
       "849                                      ['No Images']   \n",
       "\n",
       "                                               Cleaned  \n",
       "0    amberladonnastarbucksouthwestparkwayalwaywarmw...  \n",
       "1    starbuckfirestationaltamontspringflmadedayfina...  \n",
       "2    wantgowayrecognstarbuckemployebillifranklinpar...  \n",
       "3    friendstarbuckcardwork.thankworkerpaiddrinks.n...  \n",
       "4    kickdrinkcupwarmwater.workinstacartrighteveril...  \n",
       "..                                                 ...  \n",
       "845  ordertwoventifrappacino'swithoutwhipcreamdaugh...  \n",
       "846                                         reviewtext  \n",
       "847  demandtipmadewaitcoffecoldmeltyetaddressproble...  \n",
       "848                                         reviewtext  \n",
       "849                                         reviewtext  \n",
       "\n",
       "[850 rows x 6 columns]"
      ]
     },
     "execution_count": 25,
     "metadata": {},
     "output_type": "execute_result"
    }
   ],
   "source": [
    "source_df"
   ]
  },
  {
   "cell_type": "code",
   "execution_count": null,
   "id": "744a2c72-c8c9-484d-80f7-66e44c5e6a59",
   "metadata": {},
   "outputs": [],
   "source": []
  }
 ],
 "metadata": {
  "kernelspec": {
   "display_name": "Python [conda env:base] *",
   "language": "python",
   "name": "conda-base-py"
  },
  "language_info": {
   "codemirror_mode": {
    "name": "ipython",
    "version": 3
   },
   "file_extension": ".py",
   "mimetype": "text/x-python",
   "name": "python",
   "nbconvert_exporter": "python",
   "pygments_lexer": "ipython3",
   "version": "3.13.5"
  }
 },
 "nbformat": 4,
 "nbformat_minor": 5
}
