{
 "cells": [
  {
   "cell_type": "code",
   "execution_count": 1,
   "id": "84cf95f3-9b80-46d1-b910-ae1ca1d7f13d",
   "metadata": {},
   "outputs": [],
   "source": [
    "import pandas as pd"
   ]
  },
  {
   "cell_type": "code",
   "execution_count": 2,
   "id": "4c6e8c49-1929-451a-899d-444ff10d89c5",
   "metadata": {},
   "outputs": [],
   "source": [
    "la = pd.read_csv(r\"C:\\Users\\yasha\\Desktop\\AI_ML\\AI_ML_DailyPractice\\Day6_4_07_2025\\Logistic Regression\\Classification\\Codeforces Ratings\\classification_df.csv\")"
   ]
  },
  {
   "cell_type": "code",
   "execution_count": 3,
   "id": "f5d387fb-70cf-48bc-b953-fe6739776358",
   "metadata": {},
   "outputs": [
    {
     "data": {
      "text/html": [
       "<div>\n",
       "<style scoped>\n",
       "    .dataframe tbody tr th:only-of-type {\n",
       "        vertical-align: middle;\n",
       "    }\n",
       "\n",
       "    .dataframe tbody tr th {\n",
       "        vertical-align: top;\n",
       "    }\n",
       "\n",
       "    .dataframe thead th {\n",
       "        text-align: right;\n",
       "    }\n",
       "</style>\n",
       "<table border=\"1\" class=\"dataframe\">\n",
       "  <thead>\n",
       "    <tr style=\"text-align: right;\">\n",
       "      <th></th>\n",
       "      <th>userid</th>\n",
       "      <th>rank-type</th>\n",
       "      <th>contest1</th>\n",
       "      <th>contest2</th>\n",
       "      <th>contest3</th>\n",
       "      <th>contest4</th>\n",
       "      <th>contest5</th>\n",
       "      <th>contest6</th>\n",
       "      <th>contest7</th>\n",
       "      <th>contest8</th>\n",
       "      <th>contest9</th>\n",
       "      <th>contest10</th>\n",
       "    </tr>\n",
       "  </thead>\n",
       "  <tbody>\n",
       "    <tr>\n",
       "      <th>0</th>\n",
       "      <td>3143927301</td>\n",
       "      <td>Candidate Master</td>\n",
       "      <td>2078</td>\n",
       "      <td>2055</td>\n",
       "      <td>2115</td>\n",
       "      <td>2047.0</td>\n",
       "      <td>2024.0</td>\n",
       "      <td>2010.0</td>\n",
       "      <td>1953.0</td>\n",
       "      <td>1936.0</td>\n",
       "      <td>2042.0</td>\n",
       "      <td>2045.0</td>\n",
       "    </tr>\n",
       "    <tr>\n",
       "      <th>1</th>\n",
       "      <td>1876577621</td>\n",
       "      <td>Master</td>\n",
       "      <td>2194</td>\n",
       "      <td>2114</td>\n",
       "      <td>2152</td>\n",
       "      <td>2179.0</td>\n",
       "      <td>2211.0</td>\n",
       "      <td>2154.0</td>\n",
       "      <td>2170.0</td>\n",
       "      <td>2141.0</td>\n",
       "      <td>2157.0</td>\n",
       "      <td>2209.0</td>\n",
       "    </tr>\n",
       "    <tr>\n",
       "      <th>2</th>\n",
       "      <td>6397741793</td>\n",
       "      <td>Master</td>\n",
       "      <td>2120</td>\n",
       "      <td>2206</td>\n",
       "      <td>2147</td>\n",
       "      <td>2234.0</td>\n",
       "      <td>2294.0</td>\n",
       "      <td>2090.0</td>\n",
       "      <td>2089.0</td>\n",
       "      <td>2072.0</td>\n",
       "      <td>2085.0</td>\n",
       "      <td>2114.0</td>\n",
       "    </tr>\n",
       "    <tr>\n",
       "      <th>3</th>\n",
       "      <td>3090123616</td>\n",
       "      <td>Master</td>\n",
       "      <td>2224</td>\n",
       "      <td>2222</td>\n",
       "      <td>2166</td>\n",
       "      <td>2116.0</td>\n",
       "      <td>2029.0</td>\n",
       "      <td>2113.0</td>\n",
       "      <td>2104.0</td>\n",
       "      <td>2096.0</td>\n",
       "      <td>2115.0</td>\n",
       "      <td>2163.0</td>\n",
       "    </tr>\n",
       "    <tr>\n",
       "      <th>4</th>\n",
       "      <td>9564162806</td>\n",
       "      <td>Master</td>\n",
       "      <td>2128</td>\n",
       "      <td>2120</td>\n",
       "      <td>2072</td>\n",
       "      <td>2018.0</td>\n",
       "      <td>1963.0</td>\n",
       "      <td>2039.0</td>\n",
       "      <td>1932.0</td>\n",
       "      <td>1963.0</td>\n",
       "      <td>1960.0</td>\n",
       "      <td>1886.0</td>\n",
       "    </tr>\n",
       "  </tbody>\n",
       "</table>\n",
       "</div>"
      ],
      "text/plain": [
       "       userid          rank-type  contest1  contest2  contest3  contest4  \\\n",
       "0  3143927301  Candidate Master       2078      2055      2115    2047.0   \n",
       "1  1876577621            Master       2194      2114      2152    2179.0   \n",
       "2  6397741793            Master       2120      2206      2147    2234.0   \n",
       "3  3090123616            Master       2224      2222      2166    2116.0   \n",
       "4  9564162806            Master       2128      2120      2072    2018.0   \n",
       "\n",
       "   contest5  contest6  contest7  contest8  contest9  contest10  \n",
       "0    2024.0    2010.0    1953.0    1936.0    2042.0     2045.0  \n",
       "1    2211.0    2154.0    2170.0    2141.0    2157.0     2209.0  \n",
       "2    2294.0    2090.0    2089.0    2072.0    2085.0     2114.0  \n",
       "3    2029.0    2113.0    2104.0    2096.0    2115.0     2163.0  \n",
       "4    1963.0    2039.0    1932.0    1963.0    1960.0     1886.0  "
      ]
     },
     "execution_count": 3,
     "metadata": {},
     "output_type": "execute_result"
    }
   ],
   "source": [
    "la.head()"
   ]
  },
  {
   "cell_type": "code",
   "execution_count": 4,
   "id": "0d456b03-bff0-43d8-ae2b-9f066c906107",
   "metadata": {},
   "outputs": [
    {
     "data": {
      "text/plain": [
       "userid         0\n",
       "rank-type      0\n",
       "contest1       0\n",
       "contest2       0\n",
       "contest3       0\n",
       "contest4       1\n",
       "contest5      19\n",
       "contest6      49\n",
       "contest7      80\n",
       "contest8     120\n",
       "contest9     144\n",
       "contest10    171\n",
       "dtype: int64"
      ]
     },
     "execution_count": 4,
     "metadata": {},
     "output_type": "execute_result"
    }
   ],
   "source": [
    "la.isnull().sum()"
   ]
  },
  {
   "cell_type": "code",
   "execution_count": 5,
   "id": "48363281-4a88-47e2-9ddf-bf65bee3406e",
   "metadata": {},
   "outputs": [],
   "source": [
    "from sklearn.preprocessing import LabelEncoder"
   ]
  },
  {
   "cell_type": "code",
   "execution_count": 6,
   "id": "446827a7-32dd-4e05-8fc9-92b2ab1dbeb4",
   "metadata": {},
   "outputs": [],
   "source": [
    "le = LabelEncoder()"
   ]
  },
  {
   "cell_type": "code",
   "execution_count": 7,
   "id": "af8b6453-5686-49ed-b92e-215342db1e70",
   "metadata": {},
   "outputs": [],
   "source": [
    "la.dropna(inplace=True)"
   ]
  },
  {
   "cell_type": "code",
   "execution_count": 8,
   "id": "35671126-5a32-4737-8bbe-9fee3baa1b6c",
   "metadata": {},
   "outputs": [],
   "source": [
    "la = pd.get_dummies(la, columns=[\"userid\", \"contest1\", \"contest2\",\t\"contest3\", \"contest4\", \"contest5\", \"contest6\", \"contest7\"], drop_first=True)"
   ]
  },
  {
   "cell_type": "code",
   "execution_count": 9,
   "id": "af366754-320e-45c9-b9b7-36d74a5aefa8",
   "metadata": {},
   "outputs": [],
   "source": [
    "X = la.drop(\"rank-type\", axis = 'columns')"
   ]
  },
  {
   "cell_type": "code",
   "execution_count": 10,
   "id": "2d21110c-a446-4e50-b486-8d5c5ab6ccdc",
   "metadata": {},
   "outputs": [
    {
     "data": {
      "text/html": [
       "<div>\n",
       "<style scoped>\n",
       "    .dataframe tbody tr th:only-of-type {\n",
       "        vertical-align: middle;\n",
       "    }\n",
       "\n",
       "    .dataframe tbody tr th {\n",
       "        vertical-align: top;\n",
       "    }\n",
       "\n",
       "    .dataframe thead th {\n",
       "        text-align: right;\n",
       "    }\n",
       "</style>\n",
       "<table border=\"1\" class=\"dataframe\">\n",
       "  <thead>\n",
       "    <tr style=\"text-align: right;\">\n",
       "      <th></th>\n",
       "      <th>contest8</th>\n",
       "      <th>contest9</th>\n",
       "      <th>contest10</th>\n",
       "      <th>userid_1031464027</th>\n",
       "      <th>userid_1032830327</th>\n",
       "      <th>userid_1045791625</th>\n",
       "      <th>userid_1048152852</th>\n",
       "      <th>userid_1049300851</th>\n",
       "      <th>userid_1061997862</th>\n",
       "      <th>userid_1072463194</th>\n",
       "      <th>...</th>\n",
       "      <th>contest7_3020.0</th>\n",
       "      <th>contest7_3027.0</th>\n",
       "      <th>contest7_3042.0</th>\n",
       "      <th>contest7_3086.0</th>\n",
       "      <th>contest7_3096.0</th>\n",
       "      <th>contest7_3134.0</th>\n",
       "      <th>contest7_3165.0</th>\n",
       "      <th>contest7_3379.0</th>\n",
       "      <th>contest7_3415.0</th>\n",
       "      <th>contest7_3724.0</th>\n",
       "    </tr>\n",
       "  </thead>\n",
       "  <tbody>\n",
       "    <tr>\n",
       "      <th>0</th>\n",
       "      <td>1936.0</td>\n",
       "      <td>2042.0</td>\n",
       "      <td>2045.0</td>\n",
       "      <td>False</td>\n",
       "      <td>False</td>\n",
       "      <td>False</td>\n",
       "      <td>False</td>\n",
       "      <td>False</td>\n",
       "      <td>False</td>\n",
       "      <td>False</td>\n",
       "      <td>...</td>\n",
       "      <td>False</td>\n",
       "      <td>False</td>\n",
       "      <td>False</td>\n",
       "      <td>False</td>\n",
       "      <td>False</td>\n",
       "      <td>False</td>\n",
       "      <td>False</td>\n",
       "      <td>False</td>\n",
       "      <td>False</td>\n",
       "      <td>False</td>\n",
       "    </tr>\n",
       "    <tr>\n",
       "      <th>1</th>\n",
       "      <td>2141.0</td>\n",
       "      <td>2157.0</td>\n",
       "      <td>2209.0</td>\n",
       "      <td>False</td>\n",
       "      <td>False</td>\n",
       "      <td>False</td>\n",
       "      <td>False</td>\n",
       "      <td>False</td>\n",
       "      <td>False</td>\n",
       "      <td>False</td>\n",
       "      <td>...</td>\n",
       "      <td>False</td>\n",
       "      <td>False</td>\n",
       "      <td>False</td>\n",
       "      <td>False</td>\n",
       "      <td>False</td>\n",
       "      <td>False</td>\n",
       "      <td>False</td>\n",
       "      <td>False</td>\n",
       "      <td>False</td>\n",
       "      <td>False</td>\n",
       "    </tr>\n",
       "    <tr>\n",
       "      <th>2</th>\n",
       "      <td>2072.0</td>\n",
       "      <td>2085.0</td>\n",
       "      <td>2114.0</td>\n",
       "      <td>False</td>\n",
       "      <td>False</td>\n",
       "      <td>False</td>\n",
       "      <td>False</td>\n",
       "      <td>False</td>\n",
       "      <td>False</td>\n",
       "      <td>False</td>\n",
       "      <td>...</td>\n",
       "      <td>False</td>\n",
       "      <td>False</td>\n",
       "      <td>False</td>\n",
       "      <td>False</td>\n",
       "      <td>False</td>\n",
       "      <td>False</td>\n",
       "      <td>False</td>\n",
       "      <td>False</td>\n",
       "      <td>False</td>\n",
       "      <td>False</td>\n",
       "    </tr>\n",
       "    <tr>\n",
       "      <th>3</th>\n",
       "      <td>2096.0</td>\n",
       "      <td>2115.0</td>\n",
       "      <td>2163.0</td>\n",
       "      <td>False</td>\n",
       "      <td>False</td>\n",
       "      <td>False</td>\n",
       "      <td>False</td>\n",
       "      <td>False</td>\n",
       "      <td>False</td>\n",
       "      <td>False</td>\n",
       "      <td>...</td>\n",
       "      <td>False</td>\n",
       "      <td>False</td>\n",
       "      <td>False</td>\n",
       "      <td>False</td>\n",
       "      <td>False</td>\n",
       "      <td>False</td>\n",
       "      <td>False</td>\n",
       "      <td>False</td>\n",
       "      <td>False</td>\n",
       "      <td>False</td>\n",
       "    </tr>\n",
       "    <tr>\n",
       "      <th>4</th>\n",
       "      <td>1963.0</td>\n",
       "      <td>1960.0</td>\n",
       "      <td>1886.0</td>\n",
       "      <td>False</td>\n",
       "      <td>False</td>\n",
       "      <td>False</td>\n",
       "      <td>False</td>\n",
       "      <td>False</td>\n",
       "      <td>False</td>\n",
       "      <td>False</td>\n",
       "      <td>...</td>\n",
       "      <td>False</td>\n",
       "      <td>False</td>\n",
       "      <td>False</td>\n",
       "      <td>False</td>\n",
       "      <td>False</td>\n",
       "      <td>False</td>\n",
       "      <td>False</td>\n",
       "      <td>False</td>\n",
       "      <td>False</td>\n",
       "      <td>False</td>\n",
       "    </tr>\n",
       "  </tbody>\n",
       "</table>\n",
       "<p>5 rows × 5809 columns</p>\n",
       "</div>"
      ],
      "text/plain": [
       "   contest8  contest9  contest10  userid_1031464027  userid_1032830327  \\\n",
       "0    1936.0    2042.0     2045.0              False              False   \n",
       "1    2141.0    2157.0     2209.0              False              False   \n",
       "2    2072.0    2085.0     2114.0              False              False   \n",
       "3    2096.0    2115.0     2163.0              False              False   \n",
       "4    1963.0    1960.0     1886.0              False              False   \n",
       "\n",
       "   userid_1045791625  userid_1048152852  userid_1049300851  userid_1061997862  \\\n",
       "0              False              False              False              False   \n",
       "1              False              False              False              False   \n",
       "2              False              False              False              False   \n",
       "3              False              False              False              False   \n",
       "4              False              False              False              False   \n",
       "\n",
       "   userid_1072463194  ...  contest7_3020.0  contest7_3027.0  contest7_3042.0  \\\n",
       "0              False  ...            False            False            False   \n",
       "1              False  ...            False            False            False   \n",
       "2              False  ...            False            False            False   \n",
       "3              False  ...            False            False            False   \n",
       "4              False  ...            False            False            False   \n",
       "\n",
       "   contest7_3086.0  contest7_3096.0  contest7_3134.0  contest7_3165.0  \\\n",
       "0            False            False            False            False   \n",
       "1            False            False            False            False   \n",
       "2            False            False            False            False   \n",
       "3            False            False            False            False   \n",
       "4            False            False            False            False   \n",
       "\n",
       "   contest7_3379.0  contest7_3415.0  contest7_3724.0  \n",
       "0            False            False            False  \n",
       "1            False            False            False  \n",
       "2            False            False            False  \n",
       "3            False            False            False  \n",
       "4            False            False            False  \n",
       "\n",
       "[5 rows x 5809 columns]"
      ]
     },
     "execution_count": 10,
     "metadata": {},
     "output_type": "execute_result"
    }
   ],
   "source": [
    "X.head()"
   ]
  },
  {
   "cell_type": "code",
   "execution_count": 11,
   "id": "75a6cd0a-d545-48b7-94e4-eefa2396cb53",
   "metadata": {},
   "outputs": [],
   "source": [
    "y = la[\"rank-type\"]"
   ]
  },
  {
   "cell_type": "code",
   "execution_count": 12,
   "id": "5386e21f-b505-420b-9df0-71ba58aad559",
   "metadata": {},
   "outputs": [
    {
     "data": {
      "text/plain": [
       "0    Candidate Master \n",
       "1              Master \n",
       "2              Master \n",
       "3              Master \n",
       "4              Master \n",
       "Name: rank-type, dtype: object"
      ]
     },
     "execution_count": 12,
     "metadata": {},
     "output_type": "execute_result"
    }
   ],
   "source": [
    "y.head()"
   ]
  },
  {
   "cell_type": "code",
   "execution_count": 13,
   "id": "142da205-cc40-4021-affe-86467f693365",
   "metadata": {},
   "outputs": [],
   "source": [
    "from sklearn.model_selection import train_test_split"
   ]
  },
  {
   "cell_type": "code",
   "execution_count": 14,
   "id": "c047f7dc-2c14-4cfb-954e-967d159b2ea6",
   "metadata": {},
   "outputs": [],
   "source": [
    "X_train, X_test, y_train, y_test = train_test_split(X, y, test_size = 0.2, random_state = 5)"
   ]
  },
  {
   "cell_type": "code",
   "execution_count": 15,
   "id": "81f1b5ee-2145-4ed1-b4ee-d109e2d13f81",
   "metadata": {},
   "outputs": [
    {
     "data": {
      "text/plain": [
       "(1001, 5809)"
      ]
     },
     "execution_count": 15,
     "metadata": {},
     "output_type": "execute_result"
    }
   ],
   "source": [
    "X_train.shape"
   ]
  },
  {
   "cell_type": "code",
   "execution_count": 16,
   "id": "9db554d1-164f-49b2-a43c-5d6fb301bb12",
   "metadata": {},
   "outputs": [
    {
     "data": {
      "text/plain": [
       "(251, 5809)"
      ]
     },
     "execution_count": 16,
     "metadata": {},
     "output_type": "execute_result"
    }
   ],
   "source": [
    "X_test.shape"
   ]
  },
  {
   "cell_type": "code",
   "execution_count": 17,
   "id": "6c506a30-3961-4348-ba3b-b6e3d59356ee",
   "metadata": {},
   "outputs": [
    {
     "data": {
      "text/plain": [
       "(251,)"
      ]
     },
     "execution_count": 17,
     "metadata": {},
     "output_type": "execute_result"
    }
   ],
   "source": [
    "y_test.shape"
   ]
  },
  {
   "cell_type": "code",
   "execution_count": 18,
   "id": "32752681-f785-4182-b00c-1a6b2a312c17",
   "metadata": {},
   "outputs": [
    {
     "data": {
      "text/plain": [
       "(1001,)"
      ]
     },
     "execution_count": 18,
     "metadata": {},
     "output_type": "execute_result"
    }
   ],
   "source": [
    "y_train.shape"
   ]
  },
  {
   "cell_type": "code",
   "execution_count": 19,
   "id": "82946dc7-b32d-4a5d-830c-8ed6ba9f8d8d",
   "metadata": {},
   "outputs": [],
   "source": [
    "from sklearn.linear_model import LogisticRegression"
   ]
  },
  {
   "cell_type": "code",
   "execution_count": 23,
   "id": "d2063508-1ae0-4c21-84bc-64b552334284",
   "metadata": {},
   "outputs": [],
   "source": [
    "log_reg = LogisticRegression(solver='saga', max_iter=1000)"
   ]
  },
  {
   "cell_type": "code",
   "execution_count": null,
   "id": "1e4daa83-49a4-4858-ac25-0aba9159a804",
   "metadata": {},
   "outputs": [],
   "source": [
    "log_reg.fit(X_train, y_train)"
   ]
  },
  {
   "cell_type": "code",
   "execution_count": null,
   "id": "89f5d30b-deb5-453e-9ece-007862355700",
   "metadata": {},
   "outputs": [],
   "source": [
    "y_pred = log_reg.predict(X_test)"
   ]
  },
  {
   "cell_type": "code",
   "execution_count": null,
   "id": "582ab63b-89ec-4056-b07a-1cf4ff95cc59",
   "metadata": {},
   "outputs": [],
   "source": []
  }
 ],
 "metadata": {
  "kernelspec": {
   "display_name": "Python [conda env:base] *",
   "language": "python",
   "name": "conda-base-py"
  },
  "language_info": {
   "codemirror_mode": {
    "name": "ipython",
    "version": 3
   },
   "file_extension": ".py",
   "mimetype": "text/x-python",
   "name": "python",
   "nbconvert_exporter": "python",
   "pygments_lexer": "ipython3",
   "version": "3.13.5"
  }
 },
 "nbformat": 4,
 "nbformat_minor": 5
}
